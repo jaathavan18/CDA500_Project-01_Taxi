{
 "cells": [
  {
   "cell_type": "code",
   "execution_count": null,
   "id": "cc080774-f41a-4503-a064-c0ac819eeb99",
   "metadata": {},
   "outputs": [],
   "source": [
    "# Reg fetch new batch of features and compute predictions and save to feature stored"
   ]
  },
  {
   "cell_type": "code",
   "execution_count": 2,
   "id": "4bd038bf-8550-420b-9ec2-308198fca80f",
   "metadata": {},
   "outputs": [],
   "source": [
    "%load_ext autoreload\n",
    "%autoreload 2"
   ]
  },
  {
   "cell_type": "code",
   "execution_count": 3,
   "id": "46b8ae0d-58dd-4772-8931-25ff5fccb749",
   "metadata": {},
   "outputs": [],
   "source": [
    "import sys\n",
    "import os\n",
    "\n",
    "# Add the parent directory to the Python path\n",
    "sys.path.append(os.path.abspath(os.path.join(os.getcwd(), \"..\")))\n",
    "import src.config as config"
   ]
  },
  {
   "cell_type": "code",
   "execution_count": 4,
   "id": "26612685-265e-4415-a149-5751be8f994d",
   "metadata": {},
   "outputs": [
    {
     "name": "stdout",
     "output_type": "stream",
     "text": [
      "2025-04-24 19:31:51,431 INFO: Initializing external client\n",
      "2025-04-24 19:31:51,432 INFO: Base URL: https://c.app.hopsworks.ai:443\n"
     ]
    },
    {
     "name": "stderr",
     "output_type": "stream",
     "text": [
      "\n",
      "\n",
      "UserWarning: The installed hopsworks client version 4.1.5 may not be compatible with the connected Hopsworks backend version 4.2.0. \n",
      "To ensure compatibility please install the latest bug fix release matching the minor version of your backend (4.2) by running 'pip install hopsworks==4.2.*'\n"
     ]
    },
    {
     "name": "stdout",
     "output_type": "stream",
     "text": [
      "2025-04-24 19:31:52,317 INFO: Python Engine initialized.\n",
      "\n",
      "Logged in to project, explore it here https://c.app.hopsworks.ai:443/p/1214677\n",
      "Fetching data from 2025-03-26 23:31:51.427632+00:00 to 2025-04-24 22:31:51.427632+00:00\n",
      "Finished: Reading data from Hopsworks, using Hopsworks Feature Query Service (5.11s) \n"
     ]
    }
   ],
   "source": [
    "from src.inference import get_feature_store\n",
    "from datetime import datetime, timedelta\n",
    "import pandas as pd  \n",
    "\n",
    "# Get the current datetime64[us, Etc/UTC]  \n",
    "current_date = pd.Timestamp.now(tz='Etc/UTC')\n",
    "feature_store = get_feature_store()\n",
    "\n",
    "# read time-series data from the feature store\n",
    "fetch_data_to = current_date - timedelta(hours=1)\n",
    "fetch_data_from = current_date - timedelta(days=1*29)\n",
    "print(f\"Fetching data from {fetch_data_from} to {fetch_data_to}\")\n",
    "feature_view = feature_store.get_feature_view(\n",
    "    name=config.FEATURE_VIEW_NAME, version=config.FEATURE_VIEW_VERSION\n",
    ")\n",
    "\n",
    "ts_data = feature_view.get_batch_data(\n",
    "    start_time=(fetch_data_from - timedelta(days=1)),\n",
    "    end_time=(fetch_data_to + timedelta(days=1)),\n",
    ")\n",
    "ts_data = ts_data[ts_data.pickup_hour.between(fetch_data_from, fetch_data_to)]\n",
    "ts_data.sort_values([\"pickup_location_id\", \"pickup_hour\"]).reset_index(drop=True)\n",
    "ts_data[\"pickup_hour\"] = ts_data[\"pickup_hour\"].dt.tz_localize(None)\n",
    "\n",
    "from src.data_utils import transform_ts_data_info_features\n",
    "features = transform_ts_data_info_features(ts_data, window_size=24*28, step_size=23)"
   ]
  },
  {
   "cell_type": "code",
   "execution_count": 5,
   "id": "2f421843",
   "metadata": {},
   "outputs": [
    {
     "data": {
      "text/plain": [
       "Timestamp('2025-04-24 23:31:51.427632+0000', tz='Etc/UTC')"
      ]
     },
     "execution_count": 5,
     "metadata": {},
     "output_type": "execute_result"
    }
   ],
   "source": [
    "current_date"
   ]
  },
  {
   "cell_type": "code",
   "execution_count": 6,
   "id": "a8ff7bce",
   "metadata": {},
   "outputs": [
    {
     "data": {
      "text/plain": [
       "Timestamp('2025-04-25 00:00:00+0000', tz='Etc/UTC')"
      ]
     },
     "execution_count": 6,
     "metadata": {},
     "output_type": "execute_result"
    }
   ],
   "source": [
    "current_date.ceil('h')"
   ]
  },
  {
   "cell_type": "code",
   "execution_count": 7,
   "id": "22253dce-140a-4296-a48b-35c6c7655b90",
   "metadata": {},
   "outputs": [
    {
     "name": "stdout",
     "output_type": "stream",
     "text": [
      "2025-04-24 19:32:06,558 INFO: Closing external client and cleaning up certificates.\n",
      "Connection closed.\n",
      "2025-04-24 19:32:06,563 INFO: Initializing external client\n",
      "2025-04-24 19:32:06,564 INFO: Base URL: https://c.app.hopsworks.ai:443\n"
     ]
    },
    {
     "name": "stderr",
     "output_type": "stream",
     "text": [
      "\n",
      "\n",
      "UserWarning: The installed hopsworks client version 4.1.5 may not be compatible with the connected Hopsworks backend version 4.2.0. \n",
      "To ensure compatibility please install the latest bug fix release matching the minor version of your backend (4.2) by running 'pip install hopsworks==4.2.*'\n"
     ]
    },
    {
     "name": "stdout",
     "output_type": "stream",
     "text": [
      "2025-04-24 19:32:07,314 INFO: Python Engine initialized.\n",
      "\n",
      "Logged in to project, explore it here https://c.app.hopsworks.ai:443/p/1214677\n",
      "Downloading model artifact (0 dirs, 1 files)... DONE\r"
     ]
    }
   ],
   "source": [
    "from src.inference import load_model_from_registry\n",
    "\n",
    "model = load_model_from_registry()"
   ]
  },
  {
   "cell_type": "code",
   "execution_count": 8,
   "id": "b868f801-03a3-4d51-8e24-88231e664f29",
   "metadata": {},
   "outputs": [],
   "source": [
    "from src.inference import get_model_predictions\n",
    "predictions = get_model_predictions(model, features)"
   ]
  },
  {
   "cell_type": "code",
   "execution_count": 9,
   "id": "751d63ab-8e98-4087-a3cf-d79bd1bd88e5",
   "metadata": {},
   "outputs": [
    {
     "data": {
      "application/vnd.microsoft.datawrangler.viewer.v0+json": {
       "columns": [
        {
         "name": "index",
         "rawType": "int64",
         "type": "integer"
        },
        {
         "name": "pickup_location_id",
         "rawType": "int32",
         "type": "integer"
        },
        {
         "name": "predicted_demand",
         "rawType": "float64",
         "type": "float"
        },
        {
         "name": "pickup_hour",
         "rawType": "datetime64[us, Etc/UTC]",
         "type": "unknown"
        }
       ],
       "conversionMethod": "pd.DataFrame",
       "ref": "beba7065-8627-4b3b-b9b2-c7a410674153",
       "rows": [
        [
         "0",
         "164",
         "154.0",
         "2025-04-25 00:00:00+00:00"
        ],
        [
         "1",
         "147",
         "0.0",
         "2025-04-25 00:00:00+00:00"
        ],
        [
         "2",
         "43",
         "34.0",
         "2025-04-25 00:00:00+00:00"
        ],
        [
         "3",
         "86",
         "0.0",
         "2025-04-25 00:00:00+00:00"
        ],
        [
         "4",
         "35",
         "1.0",
         "2025-04-25 00:00:00+00:00"
        ],
        [
         "5",
         "131",
         "0.0",
         "2025-04-25 00:00:00+00:00"
        ],
        [
         "6",
         "13",
         "23.0",
         "2025-04-25 00:00:00+00:00"
        ],
        [
         "7",
         "4",
         "5.0",
         "2025-04-25 00:00:00+00:00"
        ],
        [
         "8",
         "172",
         "0.0",
         "2025-04-25 00:00:00+00:00"
        ],
        [
         "9",
         "130",
         "1.0",
         "2025-04-25 00:00:00+00:00"
        ],
        [
         "10",
         "201",
         "0.0",
         "2025-04-25 00:00:00+00:00"
        ],
        [
         "11",
         "96",
         "0.0",
         "2025-04-25 00:00:00+00:00"
        ],
        [
         "12",
         "155",
         "1.0",
         "2025-04-25 00:00:00+00:00"
        ],
        [
         "13",
         "62",
         "0.0",
         "2025-04-25 00:00:00+00:00"
        ],
        [
         "14",
         "10",
         "2.0",
         "2025-04-25 00:00:00+00:00"
        ],
        [
         "15",
         "209",
         "15.0",
         "2025-04-25 00:00:00+00:00"
        ],
        [
         "16",
         "208",
         "0.0",
         "2025-04-25 00:00:00+00:00"
        ],
        [
         "17",
         "210",
         "0.0",
         "2025-04-25 00:00:00+00:00"
        ],
        [
         "18",
         "138",
         "165.0",
         "2025-04-25 00:00:00+00:00"
        ],
        [
         "19",
         "34",
         "1.0",
         "2025-04-25 00:00:00+00:00"
        ],
        [
         "20",
         "254",
         "0.0",
         "2025-04-25 00:00:00+00:00"
        ],
        [
         "21",
         "83",
         "1.0",
         "2025-04-25 00:00:00+00:00"
        ],
        [
         "22",
         "22",
         "0.0",
         "2025-04-25 00:00:00+00:00"
        ],
        [
         "23",
         "81",
         "0.0",
         "2025-04-25 00:00:00+00:00"
        ],
        [
         "24",
         "69",
         "1.0",
         "2025-04-25 00:00:00+00:00"
        ],
        [
         "25",
         "18",
         "0.0",
         "2025-04-25 00:00:00+00:00"
        ],
        [
         "26",
         "47",
         "0.0",
         "2025-04-25 00:00:00+00:00"
        ],
        [
         "27",
         "102",
         "1.0",
         "2025-04-25 00:00:00+00:00"
        ],
        [
         "28",
         "140",
         "144.0",
         "2025-04-25 00:00:00+00:00"
        ],
        [
         "29",
         "41",
         "21.0",
         "2025-04-25 00:00:00+00:00"
        ],
        [
         "30",
         "222",
         "0.0",
         "2025-04-25 00:00:00+00:00"
        ],
        [
         "31",
         "207",
         "0.0",
         "2025-04-25 00:00:00+00:00"
        ],
        [
         "32",
         "115",
         "0.0",
         "2025-04-25 00:00:00+00:00"
        ],
        [
         "33",
         "14",
         "1.0",
         "2025-04-25 00:00:00+00:00"
        ],
        [
         "34",
         "132",
         "315.0",
         "2025-04-25 00:00:00+00:00"
        ],
        [
         "35",
         "262",
         "24.0",
         "2025-04-25 00:00:00+00:00"
        ],
        [
         "36",
         "229",
         "90.0",
         "2025-04-25 00:00:00+00:00"
        ],
        [
         "37",
         "32",
         "0.0",
         "2025-04-25 00:00:00+00:00"
        ],
        [
         "38",
         "231",
         "22.0",
         "2025-04-25 00:00:00+00:00"
        ],
        [
         "39",
         "125",
         "30.0",
         "2025-04-25 00:00:00+00:00"
        ],
        [
         "40",
         "107",
         "179.0",
         "2025-04-25 00:00:00+00:00"
        ],
        [
         "41",
         "134",
         "1.0",
         "2025-04-25 00:00:00+00:00"
        ],
        [
         "42",
         "27",
         "0.0",
         "2025-04-25 00:00:00+00:00"
        ],
        [
         "43",
         "56",
         "1.0",
         "2025-04-25 00:00:00+00:00"
        ],
        [
         "44",
         "153",
         "0.0",
         "2025-04-25 00:00:00+00:00"
        ],
        [
         "45",
         "101",
         "0.0",
         "2025-04-25 00:00:00+00:00"
        ],
        [
         "46",
         "224",
         "14.0",
         "2025-04-25 00:00:00+00:00"
        ],
        [
         "47",
         "232",
         "20.0",
         "2025-04-25 00:00:00+00:00"
        ],
        [
         "48",
         "256",
         "1.0",
         "2025-04-25 00:00:00+00:00"
        ],
        [
         "49",
         "200",
         "0.0",
         "2025-04-25 00:00:00+00:00"
        ]
       ],
       "shape": {
        "columns": 3,
        "rows": 255
       }
      },
      "text/html": [
       "<div>\n",
       "<style scoped>\n",
       "    .dataframe tbody tr th:only-of-type {\n",
       "        vertical-align: middle;\n",
       "    }\n",
       "\n",
       "    .dataframe tbody tr th {\n",
       "        vertical-align: top;\n",
       "    }\n",
       "\n",
       "    .dataframe thead th {\n",
       "        text-align: right;\n",
       "    }\n",
       "</style>\n",
       "<table border=\"1\" class=\"dataframe\">\n",
       "  <thead>\n",
       "    <tr style=\"text-align: right;\">\n",
       "      <th></th>\n",
       "      <th>pickup_location_id</th>\n",
       "      <th>predicted_demand</th>\n",
       "      <th>pickup_hour</th>\n",
       "    </tr>\n",
       "  </thead>\n",
       "  <tbody>\n",
       "    <tr>\n",
       "      <th>0</th>\n",
       "      <td>164</td>\n",
       "      <td>154.0</td>\n",
       "      <td>2025-04-25 00:00:00+00:00</td>\n",
       "    </tr>\n",
       "    <tr>\n",
       "      <th>1</th>\n",
       "      <td>147</td>\n",
       "      <td>0.0</td>\n",
       "      <td>2025-04-25 00:00:00+00:00</td>\n",
       "    </tr>\n",
       "    <tr>\n",
       "      <th>2</th>\n",
       "      <td>43</td>\n",
       "      <td>34.0</td>\n",
       "      <td>2025-04-25 00:00:00+00:00</td>\n",
       "    </tr>\n",
       "    <tr>\n",
       "      <th>3</th>\n",
       "      <td>86</td>\n",
       "      <td>0.0</td>\n",
       "      <td>2025-04-25 00:00:00+00:00</td>\n",
       "    </tr>\n",
       "    <tr>\n",
       "      <th>4</th>\n",
       "      <td>35</td>\n",
       "      <td>1.0</td>\n",
       "      <td>2025-04-25 00:00:00+00:00</td>\n",
       "    </tr>\n",
       "    <tr>\n",
       "      <th>...</th>\n",
       "      <td>...</td>\n",
       "      <td>...</td>\n",
       "      <td>...</td>\n",
       "    </tr>\n",
       "    <tr>\n",
       "      <th>250</th>\n",
       "      <td>49</td>\n",
       "      <td>1.0</td>\n",
       "      <td>2025-04-25 00:00:00+00:00</td>\n",
       "    </tr>\n",
       "    <tr>\n",
       "      <th>251</th>\n",
       "      <td>52</td>\n",
       "      <td>2.0</td>\n",
       "      <td>2025-04-25 00:00:00+00:00</td>\n",
       "    </tr>\n",
       "    <tr>\n",
       "      <th>252</th>\n",
       "      <td>67</td>\n",
       "      <td>0.0</td>\n",
       "      <td>2025-04-25 00:00:00+00:00</td>\n",
       "    </tr>\n",
       "    <tr>\n",
       "      <th>253</th>\n",
       "      <td>8</td>\n",
       "      <td>0.0</td>\n",
       "      <td>2025-04-25 00:00:00+00:00</td>\n",
       "    </tr>\n",
       "    <tr>\n",
       "      <th>254</th>\n",
       "      <td>20</td>\n",
       "      <td>0.0</td>\n",
       "      <td>2025-04-25 00:00:00+00:00</td>\n",
       "    </tr>\n",
       "  </tbody>\n",
       "</table>\n",
       "<p>255 rows × 3 columns</p>\n",
       "</div>"
      ],
      "text/plain": [
       "     pickup_location_id  predicted_demand               pickup_hour\n",
       "0                   164             154.0 2025-04-25 00:00:00+00:00\n",
       "1                   147               0.0 2025-04-25 00:00:00+00:00\n",
       "2                    43              34.0 2025-04-25 00:00:00+00:00\n",
       "3                    86               0.0 2025-04-25 00:00:00+00:00\n",
       "4                    35               1.0 2025-04-25 00:00:00+00:00\n",
       "..                  ...               ...                       ...\n",
       "250                  49               1.0 2025-04-25 00:00:00+00:00\n",
       "251                  52               2.0 2025-04-25 00:00:00+00:00\n",
       "252                  67               0.0 2025-04-25 00:00:00+00:00\n",
       "253                   8               0.0 2025-04-25 00:00:00+00:00\n",
       "254                  20               0.0 2025-04-25 00:00:00+00:00\n",
       "\n",
       "[255 rows x 3 columns]"
      ]
     },
     "execution_count": 9,
     "metadata": {},
     "output_type": "execute_result"
    }
   ],
   "source": [
    "predictions[\"pickup_hour\"] = current_date.ceil('h')\n",
    "predictions"
   ]
  },
  {
   "cell_type": "code",
   "execution_count": 10,
   "id": "7b171dd4-628a-4c46-af00-92cee476f090",
   "metadata": {},
   "outputs": [
    {
     "name": "stdout",
     "output_type": "stream",
     "text": [
      "2025-04-24 19:32:11,494 INFO: Closing external client and cleaning up certificates.\n",
      "Connection closed.\n",
      "2025-04-24 19:32:11,499 INFO: Initializing external client\n",
      "2025-04-24 19:32:11,499 INFO: Base URL: https://c.app.hopsworks.ai:443\n"
     ]
    },
    {
     "name": "stderr",
     "output_type": "stream",
     "text": [
      "\n",
      "\n",
      "UserWarning: The installed hopsworks client version 4.1.5 may not be compatible with the connected Hopsworks backend version 4.2.0. \n",
      "To ensure compatibility please install the latest bug fix release matching the minor version of your backend (4.2) by running 'pip install hopsworks==4.2.*'\n"
     ]
    },
    {
     "name": "stdout",
     "output_type": "stream",
     "text": [
      "2025-04-24 19:32:12,176 INFO: Python Engine initialized.\n",
      "\n",
      "Logged in to project, explore it here https://c.app.hopsworks.ai:443/p/1214677\n"
     ]
    }
   ],
   "source": [
    "from src.inference import get_feature_store\n",
    "\n",
    "feature_group = get_feature_store().get_or_create_feature_group(\n",
    "    name=config.FEATURE_GROUP_MODEL_PREDICTION,\n",
    "    version=1,\n",
    "    description=\"Predictions from LGBM Model\",\n",
    "    primary_key=[\"pickup_location_id\", \"pickup_hour\"],\n",
    "    event_time=\"pickup_hour\",\n",
    ")"
   ]
  },
  {
   "cell_type": "code",
   "execution_count": 11,
   "id": "0ba8f0db-022e-4f8a-ac34-6fd8bb095b47",
   "metadata": {},
   "outputs": [
    {
     "name": "stderr",
     "output_type": "stream",
     "text": [
      "Uploading Dataframe: 100.00% |██████████| Rows 255/255 | Elapsed Time: 00:00 | Remaining Time: 00:00\n"
     ]
    },
    {
     "name": "stdout",
     "output_type": "stream",
     "text": [
      "Launching job: taxi_hourly_model_prediction_1_offline_fg_materialization\n",
      "Job started successfully, you can follow the progress at \n",
      "https://c.app.hopsworks.ai:443/p/1214677/jobs/named/taxi_hourly_model_prediction_1_offline_fg_materialization/executions\n"
     ]
    },
    {
     "data": {
      "text/plain": [
       "(Job('taxi_hourly_model_prediction_1_offline_fg_materialization', 'SPARK'),\n",
       " None)"
      ]
     },
     "execution_count": 11,
     "metadata": {},
     "output_type": "execute_result"
    }
   ],
   "source": [
    "feature_group.insert(predictions, write_options={\"wait_for_job\": False})"
   ]
  }
 ],
 "metadata": {
  "kernelspec": {
   "display_name": ".venv",
   "language": "python",
   "name": "python3"
  },
  "language_info": {
   "codemirror_mode": {
    "name": "ipython",
    "version": 3
   },
   "file_extension": ".py",
   "mimetype": "text/x-python",
   "name": "python",
   "nbconvert_exporter": "python",
   "pygments_lexer": "ipython3",
   "version": "3.11.9"
  }
 },
 "nbformat": 4,
 "nbformat_minor": 5
}
