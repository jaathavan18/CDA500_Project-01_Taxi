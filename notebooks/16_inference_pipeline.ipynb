{
 "cells": [
  {
   "cell_type": "code",
   "execution_count": 6,
   "id": "cc080774-f41a-4503-a064-c0ac819eeb99",
   "metadata": {},
   "outputs": [],
   "source": [
    "# Reg fetch new batch of features and compute predictions and save to feature store\n",
    "# "
   ]
  },
  {
   "cell_type": "code",
   "execution_count": 7,
   "id": "4bd038bf-8550-420b-9ec2-308198fca80f",
   "metadata": {},
   "outputs": [
    {
     "name": "stdout",
     "output_type": "stream",
     "text": [
      "The autoreload extension is already loaded. To reload it, use:\n",
      "  %reload_ext autoreload\n"
     ]
    }
   ],
   "source": [
    "%load_ext autoreload\n",
    "%autoreload 2"
   ]
  },
  {
   "cell_type": "code",
   "execution_count": 8,
   "id": "46b8ae0d-58dd-4772-8931-25ff5fccb749",
   "metadata": {},
   "outputs": [],
   "source": [
    "import sys\n",
    "import os\n",
    "\n",
    "# Add the parent directory to the Python path\n",
    "sys.path.append(os.path.abspath(os.path.join(os.getcwd(), \"..\")))\n",
    "import src.config as config"
   ]
  },
  {
   "cell_type": "code",
   "execution_count": 9,
   "id": "e3e6bb6e",
   "metadata": {},
   "outputs": [
    {
     "name": "stdout",
     "output_type": "stream",
     "text": [
      "API Key: qf4YnRgKPjj8IeMQ.R4Xeeq4Ge0CVPmW1qLCSOBJLCyqJ9XQoEg3jFnn9WmfPXqO6p5tWvHIGSh1DKnr8\n",
      "Project Name: new_york_taxi\n",
      "2025-03-03 09:31:35,885 INFO: Closing external client and cleaning up certificates.\n",
      "Connection closed.\n",
      "2025-03-03 09:31:35,889 INFO: Initializing external client\n",
      "2025-03-03 09:31:35,889 INFO: Base URL: https://c.app.hopsworks.ai:443\n",
      "2025-03-03 09:31:36,646 INFO: Python Engine initialized.\n",
      "\n",
      "Logged in to project, explore it here https://c.app.hopsworks.ai:443/p/1214677\n",
      "Successfully connected to Hopsworks project: new_york_taxi\n"
     ]
    }
   ],
   "source": [
    "import hopsworks\n",
    "\n",
    "\n",
    "os.environ[\"HOPSWORKS_API_KEY\"] = \"qf4YnRgKPjj8IeMQ.R4Xeeq4Ge0CVPmW1qLCSOBJLCyqJ9XQoEg3jFnn9WmfPXqO6p5tWvHIGSh1DKnr8\"\n",
    "os.environ[\"HOPSWORKS_PROJECT_NAME\"] = \"new_york_taxi\"\n",
    "\n",
    "api_key = os.getenv('HOPSWORKS_API_KEY')  \n",
    "project_name = os.getenv('HOPSWORKS_PROJECT_NAME')  \n",
    "\n",
    "print(\"API Key:\", api_key)\n",
    "print(\"Project Name:\", project_name)\n",
    "\n",
    "# Initialize connection to Hopsworks  \n",
    "project = hopsworks.login(api_key_value=api_key, project=project_name)\n",
    "print(f\"Successfully connected to Hopsworks project: {project_name}\")"
   ]
  },
  {
   "cell_type": "code",
   "execution_count": 10,
   "id": "26612685-265e-4415-a149-5751be8f994d",
   "metadata": {},
   "outputs": [
    {
     "name": "stdout",
     "output_type": "stream",
     "text": [
      "2025-03-03 09:31:37,835 INFO: Closing external client and cleaning up certificates.\n",
      "Connection closed.\n",
      "2025-03-03 09:31:37,840 INFO: Initializing external client\n",
      "2025-03-03 09:31:37,841 INFO: Base URL: https://c.app.hopsworks.ai:443\n",
      "2025-03-03 09:31:38,639 INFO: Python Engine initialized.\n",
      "\n",
      "Logged in to project, explore it here https://c.app.hopsworks.ai:443/p/1214677\n",
      "Fetching data from 2025-02-02 14:31:37.833131+00:00 to 2025-03-03 13:31:37.833131+00:00\n",
      "Finished: Reading data from Hopsworks, using Hopsworks Feature Query Service (5.12s) \n"
     ]
    }
   ],
   "source": [
    "from src.inference import get_feature_store\n",
    "from datetime import datetime, timedelta\n",
    "import pandas as pd  \n",
    "\n",
    "# Get the current datetime64[us, Etc/UTC]  \n",
    "current_date = pd.Timestamp.now(tz='Etc/UTC')\n",
    "feature_store = get_feature_store()\n",
    "\n",
    "# read time-series data from the feature store\n",
    "fetch_data_to = current_date - timedelta(hours=1)\n",
    "fetch_data_from = current_date - timedelta(days=1*29)\n",
    "print(f\"Fetching data from {fetch_data_from} to {fetch_data_to}\")\n",
    "feature_view = feature_store.get_feature_view(\n",
    "    name=config.FEATURE_VIEW_NAME, version=config.FEATURE_VIEW_VERSION\n",
    ")\n",
    "\n",
    "ts_data = feature_view.get_batch_data(\n",
    "    start_time=(fetch_data_from - timedelta(days=1)),\n",
    "    end_time=(fetch_data_to + timedelta(days=1)),\n",
    ")\n",
    "ts_data = ts_data[ts_data.pickup_hour.between(fetch_data_from, fetch_data_to)]\n",
    "ts_data.sort_values([\"pickup_location_id\", \"pickup_hour\"]).reset_index(drop=True)\n",
    "ts_data[\"pickup_hour\"] = ts_data[\"pickup_hour\"].dt.tz_localize(None)\n",
    "\n",
    "from src.data_utils import transform_ts_data_info_features\n",
    "features = transform_ts_data_info_features(ts_data, window_size=24*28, step_size=23)"
   ]
  },
  {
   "cell_type": "code",
   "execution_count": 11,
   "id": "22253dce-140a-4296-a48b-35c6c7655b90",
   "metadata": {},
   "outputs": [
    {
     "name": "stdout",
     "output_type": "stream",
     "text": [
      "2025-03-03 09:31:54,021 INFO: Closing external client and cleaning up certificates.\n",
      "Connection closed.\n",
      "2025-03-03 09:31:54,025 INFO: Initializing external client\n",
      "2025-03-03 09:31:54,026 INFO: Base URL: https://c.app.hopsworks.ai:443\n",
      "2025-03-03 09:31:56,034 INFO: Python Engine initialized.\n",
      "\n",
      "Logged in to project, explore it here https://c.app.hopsworks.ai:443/p/1214677\n",
      "Downloading model artifact (0 dirs, 1 files)... DONE\r"
     ]
    }
   ],
   "source": [
    "from src.inference import load_model_from_registry\n",
    "\n",
    "model = load_model_from_registry()"
   ]
  },
  {
   "cell_type": "code",
   "execution_count": 12,
   "id": "b868f801-03a3-4d51-8e24-88231e664f29",
   "metadata": {},
   "outputs": [],
   "source": [
    "from src.inference import get_model_predictions\n",
    "predictions = get_model_predictions(model, features)"
   ]
  },
  {
   "cell_type": "code",
   "execution_count": 13,
   "id": "751d63ab-8e98-4087-a3cf-d79bd1bd88e5",
   "metadata": {},
   "outputs": [
    {
     "data": {
      "application/vnd.microsoft.datawrangler.viewer.v0+json": {
       "columns": [
        {
         "name": "index",
         "rawType": "int64",
         "type": "integer"
        },
        {
         "name": "pickup_location_id",
         "rawType": "int32",
         "type": "integer"
        },
        {
         "name": "predicted_demand",
         "rawType": "float64",
         "type": "float"
        },
        {
         "name": "pickup_hour",
         "rawType": "datetime64[us, Etc/UTC]",
         "type": "unknown"
        }
       ],
       "conversionMethod": "pd.DataFrame",
       "ref": "b39ce63a-647b-4b47-ab42-3a5b6f4fc2c2",
       "rows": [
        [
         "0",
         "255",
         "2.0",
         "2025-03-03 15:00:00+00:00"
        ],
        [
         "1",
         "218",
         "1.0",
         "2025-03-03 15:00:00+00:00"
        ],
        [
         "2",
         "237",
         "276.0",
         "2025-03-03 15:00:00+00:00"
        ],
        [
         "3",
         "57",
         "0.0",
         "2025-03-03 15:00:00+00:00"
        ],
        [
         "4",
         "56",
         "0.0",
         "2025-03-03 15:00:00+00:00"
        ],
        [
         "5",
         "68",
         "123.0",
         "2025-03-03 15:00:00+00:00"
        ],
        [
         "6",
         "31",
         "0.0",
         "2025-03-03 15:00:00+00:00"
        ],
        [
         "7",
         "171",
         "0.0",
         "2025-03-03 15:00:00+00:00"
        ],
        [
         "8",
         "30",
         "0.0",
         "2025-03-03 15:00:00+00:00"
        ],
        [
         "9",
         "79",
         "80.0",
         "2025-03-03 15:00:00+00:00"
        ],
        [
         "10",
         "21",
         "0.0",
         "2025-03-03 15:00:00+00:00"
        ],
        [
         "11",
         "72",
         "2.0",
         "2025-03-03 15:00:00+00:00"
        ],
        [
         "12",
         "236",
         "283.0",
         "2025-03-03 15:00:00+00:00"
        ],
        [
         "13",
         "192",
         "0.0",
         "2025-03-03 15:00:00+00:00"
        ],
        [
         "14",
         "88",
         "10.0",
         "2025-03-03 15:00:00+00:00"
        ],
        [
         "15",
         "86",
         "1.0",
         "2025-03-03 15:00:00+00:00"
        ],
        [
         "16",
         "97",
         "1.0",
         "2025-03-03 15:00:00+00:00"
        ],
        [
         "17",
         "122",
         "0.0",
         "2025-03-03 15:00:00+00:00"
        ],
        [
         "18",
         "148",
         "58.0",
         "2025-03-03 15:00:00+00:00"
        ],
        [
         "19",
         "197",
         "1.0",
         "2025-03-03 15:00:00+00:00"
        ],
        [
         "20",
         "211",
         "17.0",
         "2025-03-03 15:00:00+00:00"
        ],
        [
         "21",
         "128",
         "0.0",
         "2025-03-03 15:00:00+00:00"
        ],
        [
         "22",
         "43",
         "13.0",
         "2025-03-03 15:00:00+00:00"
        ],
        [
         "23",
         "58",
         "0.0",
         "2025-03-03 15:00:00+00:00"
        ],
        [
         "24",
         "229",
         "111.0",
         "2025-03-03 15:00:00+00:00"
        ],
        [
         "25",
         "29",
         "0.0",
         "2025-03-03 15:00:00+00:00"
        ],
        [
         "26",
         "20",
         "0.0",
         "2025-03-03 15:00:00+00:00"
        ],
        [
         "27",
         "259",
         "0.0",
         "2025-03-03 15:00:00+00:00"
        ],
        [
         "28",
         "195",
         "0.0",
         "2025-03-03 15:00:00+00:00"
        ],
        [
         "29",
         "3",
         "0.0",
         "2025-03-03 15:00:00+00:00"
        ],
        [
         "30",
         "116",
         "3.0",
         "2025-03-03 15:00:00+00:00"
        ],
        [
         "31",
         "115",
         "0.0",
         "2025-03-03 15:00:00+00:00"
        ],
        [
         "32",
         "189",
         "0.0",
         "2025-03-03 15:00:00+00:00"
        ],
        [
         "33",
         "33",
         "4.0",
         "2025-03-03 15:00:00+00:00"
        ],
        [
         "34",
         "191",
         "1.0",
         "2025-03-03 15:00:00+00:00"
        ],
        [
         "35",
         "252",
         "0.0",
         "2025-03-03 15:00:00+00:00"
        ],
        [
         "36",
         "18",
         "0.0",
         "2025-03-03 15:00:00+00:00"
        ],
        [
         "37",
         "198",
         "0.0",
         "2025-03-03 15:00:00+00:00"
        ],
        [
         "38",
         "123",
         "0.0",
         "2025-03-03 15:00:00+00:00"
        ],
        [
         "39",
         "13",
         "29.0",
         "2025-03-03 15:00:00+00:00"
        ],
        [
         "40",
         "248",
         "0.0",
         "2025-03-03 15:00:00+00:00"
        ],
        [
         "41",
         "158",
         "23.0",
         "2025-03-03 15:00:00+00:00"
        ],
        [
         "42",
         "179",
         "1.0",
         "2025-03-03 15:00:00+00:00"
        ],
        [
         "43",
         "119",
         "0.0",
         "2025-03-03 15:00:00+00:00"
        ],
        [
         "44",
         "188",
         "1.0",
         "2025-03-03 15:00:00+00:00"
        ],
        [
         "45",
         "15",
         "0.0",
         "2025-03-03 15:00:00+00:00"
        ],
        [
         "46",
         "54",
         "0.0",
         "2025-03-03 15:00:00+00:00"
        ],
        [
         "47",
         "50",
         "33.0",
         "2025-03-03 15:00:00+00:00"
        ],
        [
         "48",
         "240",
         "0.0",
         "2025-03-03 15:00:00+00:00"
        ],
        [
         "49",
         "140",
         "32.0",
         "2025-03-03 15:00:00+00:00"
        ]
       ],
       "shape": {
        "columns": 3,
        "rows": 251
       }
      },
      "text/html": [
       "<div>\n",
       "<style scoped>\n",
       "    .dataframe tbody tr th:only-of-type {\n",
       "        vertical-align: middle;\n",
       "    }\n",
       "\n",
       "    .dataframe tbody tr th {\n",
       "        vertical-align: top;\n",
       "    }\n",
       "\n",
       "    .dataframe thead th {\n",
       "        text-align: right;\n",
       "    }\n",
       "</style>\n",
       "<table border=\"1\" class=\"dataframe\">\n",
       "  <thead>\n",
       "    <tr style=\"text-align: right;\">\n",
       "      <th></th>\n",
       "      <th>pickup_location_id</th>\n",
       "      <th>predicted_demand</th>\n",
       "      <th>pickup_hour</th>\n",
       "    </tr>\n",
       "  </thead>\n",
       "  <tbody>\n",
       "    <tr>\n",
       "      <th>0</th>\n",
       "      <td>255</td>\n",
       "      <td>2.0</td>\n",
       "      <td>2025-03-03 15:00:00+00:00</td>\n",
       "    </tr>\n",
       "    <tr>\n",
       "      <th>1</th>\n",
       "      <td>218</td>\n",
       "      <td>1.0</td>\n",
       "      <td>2025-03-03 15:00:00+00:00</td>\n",
       "    </tr>\n",
       "    <tr>\n",
       "      <th>2</th>\n",
       "      <td>237</td>\n",
       "      <td>276.0</td>\n",
       "      <td>2025-03-03 15:00:00+00:00</td>\n",
       "    </tr>\n",
       "    <tr>\n",
       "      <th>3</th>\n",
       "      <td>57</td>\n",
       "      <td>0.0</td>\n",
       "      <td>2025-03-03 15:00:00+00:00</td>\n",
       "    </tr>\n",
       "    <tr>\n",
       "      <th>4</th>\n",
       "      <td>56</td>\n",
       "      <td>0.0</td>\n",
       "      <td>2025-03-03 15:00:00+00:00</td>\n",
       "    </tr>\n",
       "    <tr>\n",
       "      <th>...</th>\n",
       "      <td>...</td>\n",
       "      <td>...</td>\n",
       "      <td>...</td>\n",
       "    </tr>\n",
       "    <tr>\n",
       "      <th>246</th>\n",
       "      <td>187</td>\n",
       "      <td>0.0</td>\n",
       "      <td>2025-03-03 15:00:00+00:00</td>\n",
       "    </tr>\n",
       "    <tr>\n",
       "      <th>247</th>\n",
       "      <td>71</td>\n",
       "      <td>0.0</td>\n",
       "      <td>2025-03-03 15:00:00+00:00</td>\n",
       "    </tr>\n",
       "    <tr>\n",
       "      <th>248</th>\n",
       "      <td>8</td>\n",
       "      <td>0.0</td>\n",
       "      <td>2025-03-03 15:00:00+00:00</td>\n",
       "    </tr>\n",
       "    <tr>\n",
       "      <th>249</th>\n",
       "      <td>168</td>\n",
       "      <td>0.0</td>\n",
       "      <td>2025-03-03 15:00:00+00:00</td>\n",
       "    </tr>\n",
       "    <tr>\n",
       "      <th>250</th>\n",
       "      <td>186</td>\n",
       "      <td>161.0</td>\n",
       "      <td>2025-03-03 15:00:00+00:00</td>\n",
       "    </tr>\n",
       "  </tbody>\n",
       "</table>\n",
       "<p>251 rows × 3 columns</p>\n",
       "</div>"
      ],
      "text/plain": [
       "     pickup_location_id  predicted_demand               pickup_hour\n",
       "0                   255               2.0 2025-03-03 15:00:00+00:00\n",
       "1                   218               1.0 2025-03-03 15:00:00+00:00\n",
       "2                   237             276.0 2025-03-03 15:00:00+00:00\n",
       "3                    57               0.0 2025-03-03 15:00:00+00:00\n",
       "4                    56               0.0 2025-03-03 15:00:00+00:00\n",
       "..                  ...               ...                       ...\n",
       "246                 187               0.0 2025-03-03 15:00:00+00:00\n",
       "247                  71               0.0 2025-03-03 15:00:00+00:00\n",
       "248                   8               0.0 2025-03-03 15:00:00+00:00\n",
       "249                 168               0.0 2025-03-03 15:00:00+00:00\n",
       "250                 186             161.0 2025-03-03 15:00:00+00:00\n",
       "\n",
       "[251 rows x 3 columns]"
      ]
     },
     "execution_count": 13,
     "metadata": {},
     "output_type": "execute_result"
    }
   ],
   "source": [
    "predictions[\"pickup_hour\"] = current_date.ceil('h')\n",
    "predictions"
   ]
  },
  {
   "cell_type": "code",
   "execution_count": 14,
   "id": "7b171dd4-628a-4c46-af00-92cee476f090",
   "metadata": {},
   "outputs": [
    {
     "name": "stdout",
     "output_type": "stream",
     "text": [
      "2025-03-03 09:31:59,432 INFO: Closing external client and cleaning up certificates.\n",
      "Connection closed.\n",
      "2025-03-03 09:31:59,436 INFO: Initializing external client\n",
      "2025-03-03 09:31:59,436 INFO: Base URL: https://c.app.hopsworks.ai:443\n",
      "2025-03-03 09:32:00,447 INFO: Python Engine initialized.\n",
      "\n",
      "Logged in to project, explore it here https://c.app.hopsworks.ai:443/p/1214677\n"
     ]
    }
   ],
   "source": [
    "from src.inference import get_feature_store\n",
    "\n",
    "feature_group = get_feature_store().get_or_create_feature_group(\n",
    "    name=config.FEATURE_GROUP_MODEL_PREDICTION,\n",
    "    version=1,\n",
    "    description=\"Predictions from LGBM Model\",\n",
    "    primary_key=[\"pickup_location_id\", \"pickup_hour\"],\n",
    "    event_time=\"pickup_hour\",\n",
    ")"
   ]
  },
  {
   "cell_type": "code",
   "execution_count": 15,
   "id": "0ba8f0db-022e-4f8a-ac34-6fd8bb095b47",
   "metadata": {},
   "outputs": [
    {
     "name": "stdout",
     "output_type": "stream",
     "text": [
      "Feature Group created successfully, explore it at \n",
      "https://c.app.hopsworks.ai:443/p/1214677/fs/1202308/fg/1401852\n"
     ]
    },
    {
     "name": "stderr",
     "output_type": "stream",
     "text": [
      "Uploading Dataframe: 100.00% |██████████| Rows 251/251 | Elapsed Time: 00:02 | Remaining Time: 00:00\n"
     ]
    },
    {
     "name": "stdout",
     "output_type": "stream",
     "text": [
      "Launching job: taxi_hourly_model_prediction_1_offline_fg_materialization\n",
      "Job started successfully, you can follow the progress at \n",
      "https://c.app.hopsworks.ai:443/p/1214677/jobs/named/taxi_hourly_model_prediction_1_offline_fg_materialization/executions\n"
     ]
    },
    {
     "data": {
      "text/plain": [
       "(Job('taxi_hourly_model_prediction_1_offline_fg_materialization', 'SPARK'),\n",
       " None)"
      ]
     },
     "execution_count": 15,
     "metadata": {},
     "output_type": "execute_result"
    }
   ],
   "source": [
    "feature_group.insert(predictions, write_options={\"wait_for_job\": False})"
   ]
  }
 ],
 "metadata": {
  "kernelspec": {
   "display_name": ".venv",
   "language": "python",
   "name": "python3"
  },
  "language_info": {
   "codemirror_mode": {
    "name": "ipython",
    "version": 3
   },
   "file_extension": ".py",
   "mimetype": "text/x-python",
   "name": "python",
   "nbconvert_exporter": "python",
   "pygments_lexer": "ipython3",
   "version": "3.11.9"
  }
 },
 "nbformat": 4,
 "nbformat_minor": 5
}
