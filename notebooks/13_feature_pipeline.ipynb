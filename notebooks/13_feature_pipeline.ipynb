{
 "cells": [
  {
   "cell_type": "code",
   "execution_count": 1,
   "id": "4aba119e-8624-4c30-ad3c-49759f3f18d4",
   "metadata": {},
   "outputs": [],
   "source": [
    "import sys\n",
    "import os\n",
    "\n",
    "# Add the parent directory to the Python path\n",
    "sys.path.append(os.path.abspath(os.path.join(os.getcwd(), \"..\")))\n",
    "import src.config as config"
   ]
  },
  {
   "cell_type": "code",
   "execution_count": 2,
   "id": "d70f3626-766c-430f-97d9-ee5c9068c240",
   "metadata": {},
   "outputs": [
    {
     "name": "stdout",
     "output_type": "stream",
     "text": [
      "2025-04-24 23:00:00\n"
     ]
    }
   ],
   "source": [
    "from datetime import datetime, timedelta\n",
    "\n",
    "import pandas as pd\n",
    "\n",
    "current_date = pd.to_datetime(datetime.utcnow()).floor('h')\n",
    "print(f\"{current_date}\")"
   ]
  },
  {
   "cell_type": "code",
   "execution_count": 3,
   "id": "98019378-2d7e-44d9-b6a3-794e640b2910",
   "metadata": {},
   "outputs": [
    {
     "data": {
      "text/plain": [
       "pandas._libs.tslibs.timestamps.Timestamp"
      ]
     },
     "execution_count": 3,
     "metadata": {},
     "output_type": "execute_result"
    }
   ],
   "source": [
    "type(current_date)"
   ]
  },
  {
   "cell_type": "code",
   "execution_count": 4,
   "id": "8dfe29a0-f439-4e3b-8ad2-78eb40a3bde3",
   "metadata": {},
   "outputs": [],
   "source": [
    "#from datetime import datetime, timedelta, timezone\n",
    "#current_date = pd.to_datetime(datetime.now(timezone.utc)).floor(\"h\")"
   ]
  },
  {
   "cell_type": "code",
   "execution_count": 5,
   "id": "e1ceac31-828d-4ca3-9ae3-19a0f4ec2ab8",
   "metadata": {},
   "outputs": [],
   "source": [
    "#current_date.to_datetime64()"
   ]
  },
  {
   "cell_type": "code",
   "execution_count": 6,
   "id": "0a9eb28f-e6ea-44e6-aa60-05d8304691fc",
   "metadata": {},
   "outputs": [],
   "source": [
    "fetch_data_to = current_date\n",
    "fetch_data_from = current_date - timedelta(days=29)"
   ]
  },
  {
   "cell_type": "code",
   "execution_count": 7,
   "id": "133fcfda-af02-43f0-8851-63ef10b778ba",
   "metadata": {},
   "outputs": [
    {
     "data": {
      "text/plain": [
       "Timestamp('2025-04-24 23:00:00')"
      ]
     },
     "execution_count": 7,
     "metadata": {},
     "output_type": "execute_result"
    }
   ],
   "source": [
    "fetch_data_to"
   ]
  },
  {
   "cell_type": "code",
   "execution_count": 8,
   "id": "ec2f9e79-58b1-4e18-9346-c93fc04e1f7c",
   "metadata": {},
   "outputs": [
    {
     "data": {
      "text/plain": [
       "Timestamp('2025-03-26 23:00:00')"
      ]
     },
     "execution_count": 8,
     "metadata": {},
     "output_type": "execute_result"
    }
   ],
   "source": [
    "fetch_data_from"
   ]
  },
  {
   "cell_type": "code",
   "execution_count": 9,
   "id": "dfaf545c-01d6-41dc-871d-c514c667bbce",
   "metadata": {},
   "outputs": [],
   "source": [
    "from datetime import datetime, timedelta\n",
    "from typing import Union\n",
    "import pandas as pd\n",
    "from src.data_utils import load_and_process_taxi_data\n",
    "\n",
    "def fetch_batch_raw_data(from_date: Union[datetime, str], to_date: Union[datetime, str]) -> pd.DataFrame:\n",
    "    \"\"\"\n",
    "    Simulate production data by sampling historical data from 52 weeks ago (i.e., 1 year).\n",
    "\n",
    "    Args:\n",
    "        from_date (datetime or str): The start date for the data batch.\n",
    "        to_date (datetime or str): The end date for the data batch.\n",
    "\n",
    "    Returns:\n",
    "        pd.DataFrame: A DataFrame containing the simulated production data.\n",
    "    \"\"\"\n",
    "    # Convert string inputs to datetime if necessary\n",
    "    if isinstance(from_date, str):\n",
    "        from_date = datetime.fromisoformat(from_date)\n",
    "    if isinstance(to_date, str):\n",
    "        to_date = datetime.fromisoformat(to_date)\n",
    "\n",
    "    # Validate input dates\n",
    "    if not isinstance(from_date, datetime) or not isinstance(to_date, datetime):\n",
    "        raise ValueError(\"Both 'from_date' and 'to_date' must be datetime objects or valid ISO format strings.\")\n",
    "    if from_date >= to_date:\n",
    "        raise ValueError(\"'from_date' must be earlier than 'to_date'.\")\n",
    "\n",
    "    # Shift dates back by 52 weeks (1 year)\n",
    "    historical_from_date = from_date - timedelta(weeks=52)\n",
    "    historical_to_date = to_date - timedelta(weeks=52)\n",
    "\n",
    "    # Load and filter data for the historical period\n",
    "    rides_from = load_and_process_taxi_data(year=historical_from_date.year, months=[historical_from_date.month])\n",
    "    rides_from = rides_from[rides_from.pickup_datetime >= historical_from_date]\n",
    "\n",
    "    if historical_to_date.month != historical_from_date.month:\n",
    "        rides_to = load_and_process_taxi_data(year=historical_to_date.year, months=[historical_to_date.month])\n",
    "        rides_to = rides_to[rides_to.pickup_datetime < historical_to_date]\n",
    "        # Combine the filtered data\n",
    "        rides = pd.concat([rides_from, rides_to], ignore_index=True)\n",
    "    else:\n",
    "        rides = rides_from\n",
    "    # Shift the data forward by 52 weeks to simulate recent data\n",
    "    rides['pickup_datetime'] += timedelta(weeks=52)\n",
    "\n",
    "    # Sort the data for consistency\n",
    "    rides.sort_values(by=['pickup_location_id', 'pickup_datetime'], inplace=True)\n",
    "\n",
    "    return rides"
   ]
  },
  {
   "cell_type": "code",
   "execution_count": 10,
   "id": "4e1669d5-cc0b-440b-8e8d-8bb78d16c58c",
   "metadata": {},
   "outputs": [
    {
     "name": "stdout",
     "output_type": "stream",
     "text": [
      "File already exists for 2024-03.\n",
      "Loading data for 2024-03...\n",
      "Total records: 3,582,628\n",
      "Valid records: 3,518,066\n",
      "Records dropped: 64,562 (1.80%)\n",
      "Successfully processed data for 2024-03.\n",
      "Combining all monthly data...\n",
      "Data loading and processing complete!\n",
      "Downloading data for 2024-04...\n",
      "Successfully downloaded data for 2024-04.\n",
      "Loading data for 2024-04...\n",
      "Total records: 3,514,289\n",
      "Valid records: 3,450,929\n",
      "Records dropped: 63,360 (1.80%)\n",
      "Successfully processed data for 2024-04.\n",
      "Combining all monthly data...\n",
      "Data loading and processing complete!\n"
     ]
    }
   ],
   "source": [
    "rides = fetch_batch_raw_data(fetch_data_from, fetch_data_to)"
   ]
  },
  {
   "cell_type": "code",
   "execution_count": 11,
   "id": "22176c04-e64c-496a-9acd-6a6eb7bc2ff0",
   "metadata": {},
   "outputs": [
    {
     "data": {
      "application/vnd.microsoft.datawrangler.viewer.v0+json": {
       "columns": [
        {
         "name": "index",
         "rawType": "int64",
         "type": "integer"
        },
        {
         "name": "pickup_datetime",
         "rawType": "datetime64[us]",
         "type": "unknown"
        },
        {
         "name": "pickup_location_id",
         "rawType": "int32",
         "type": "integer"
        }
       ],
       "conversionMethod": "pd.DataFrame",
       "ref": "3b576863-5b60-4cea-9806-07c111a30a60",
       "rows": [
        [
         "543495",
         "2025-03-31 23:48:03",
         "2"
        ],
        [
         "2755678",
         "2025-04-22 16:43:51",
         "2"
        ],
        [
         "7163",
         "2025-03-27 04:01:43",
         "3"
        ],
        [
         "7067",
         "2025-03-27 04:33:54",
         "3"
        ],
        [
         "384432",
         "2025-03-27 06:30:41",
         "3"
        ],
        [
         "8370",
         "2025-03-27 06:42:16",
         "3"
        ],
        [
         "16640",
         "2025-03-27 08:17:42",
         "3"
        ],
        [
         "16644",
         "2025-03-27 08:56:39",
         "3"
        ],
        [
         "26887",
         "2025-03-27 10:56:39",
         "3"
        ],
        [
         "388128",
         "2025-03-27 12:26:22",
         "3"
        ],
        [
         "53545",
         "2025-03-27 15:04:00",
         "3"
        ],
        [
         "123926",
         "2025-03-28 08:01:39",
         "3"
        ],
        [
         "129307",
         "2025-03-28 10:38:47",
         "3"
        ],
        [
         "152953",
         "2025-03-28 14:53:32",
         "3"
        ],
        [
         "430429",
         "2025-03-29 04:29:56",
         "3"
        ],
        [
         "440463",
         "2025-03-29 22:55:00",
         "3"
        ],
        [
         "302517",
         "2025-03-29 23:48:45",
         "3"
        ],
        [
         "449917",
         "2025-03-30 07:03:28",
         "3"
        ],
        [
         "321082",
         "2025-03-30 09:19:10",
         "3"
        ],
        [
         "323401",
         "2025-03-30 10:10:06",
         "3"
        ],
        [
         "346528",
         "2025-03-30 15:29:04",
         "3"
        ],
        [
         "456292",
         "2025-03-30 19:46:00",
         "3"
        ],
        [
         "456603",
         "2025-03-30 20:32:21",
         "3"
        ],
        [
         "465765",
         "2025-03-31 07:06:08",
         "3"
        ],
        [
         "466116",
         "2025-03-31 07:14:52",
         "3"
        ],
        [
         "474084",
         "2025-03-31 09:29:42",
         "3"
        ],
        [
         "528857",
         "2025-03-31 19:23:54",
         "3"
        ],
        [
         "550418",
         "2025-04-01 07:27:28",
         "3"
        ],
        [
         "3015471",
         "2025-04-01 07:27:47",
         "3"
        ],
        [
         "567153",
         "2025-04-01 10:24:42",
         "3"
        ],
        [
         "571560",
         "2025-04-01 11:10:08",
         "3"
        ],
        [
         "584776",
         "2025-04-01 13:17:29",
         "3"
        ],
        [
         "624335",
         "2025-04-01 18:06:53",
         "3"
        ],
        [
         "3035444",
         "2025-04-02 05:49:19",
         "3"
        ],
        [
         "3035624",
         "2025-04-02 06:58:46",
         "3"
        ],
        [
         "3036825",
         "2025-04-02 07:15:51",
         "3"
        ],
        [
         "3036959",
         "2025-04-02 07:47:55",
         "3"
        ],
        [
         "3038612",
         "2025-04-02 08:05:32",
         "3"
        ],
        [
         "3038233",
         "2025-04-02 08:44:52",
         "3"
        ],
        [
         "669261",
         "2025-04-02 09:12:29",
         "3"
        ],
        [
         "680811",
         "2025-04-02 11:48:18",
         "3"
        ],
        [
         "707501",
         "2025-04-02 15:17:27",
         "3"
        ],
        [
         "3062240",
         "2025-04-02 23:03:01",
         "3"
        ],
        [
         "760547",
         "2025-04-02 23:34:41",
         "3"
        ],
        [
         "3065414",
         "2025-04-03 07:45:25",
         "3"
        ],
        [
         "773940",
         "2025-04-03 08:44:08",
         "3"
        ],
        [
         "792726",
         "2025-04-03 11:26:28",
         "3"
        ],
        [
         "3087114",
         "2025-04-04 07:24:39",
         "3"
        ],
        [
         "895175",
         "2025-04-04 09:40:47",
         "3"
        ],
        [
         "895875",
         "2025-04-04 09:57:08",
         "3"
        ]
       ],
       "shape": {
        "columns": 2,
        "rows": 3375752
       }
      },
      "text/html": [
       "<div>\n",
       "<style scoped>\n",
       "    .dataframe tbody tr th:only-of-type {\n",
       "        vertical-align: middle;\n",
       "    }\n",
       "\n",
       "    .dataframe tbody tr th {\n",
       "        vertical-align: top;\n",
       "    }\n",
       "\n",
       "    .dataframe thead th {\n",
       "        text-align: right;\n",
       "    }\n",
       "</style>\n",
       "<table border=\"1\" class=\"dataframe\">\n",
       "  <thead>\n",
       "    <tr style=\"text-align: right;\">\n",
       "      <th></th>\n",
       "      <th>pickup_datetime</th>\n",
       "      <th>pickup_location_id</th>\n",
       "    </tr>\n",
       "  </thead>\n",
       "  <tbody>\n",
       "    <tr>\n",
       "      <th>543495</th>\n",
       "      <td>2025-03-31 23:48:03</td>\n",
       "      <td>2</td>\n",
       "    </tr>\n",
       "    <tr>\n",
       "      <th>2755678</th>\n",
       "      <td>2025-04-22 16:43:51</td>\n",
       "      <td>2</td>\n",
       "    </tr>\n",
       "    <tr>\n",
       "      <th>7163</th>\n",
       "      <td>2025-03-27 04:01:43</td>\n",
       "      <td>3</td>\n",
       "    </tr>\n",
       "    <tr>\n",
       "      <th>7067</th>\n",
       "      <td>2025-03-27 04:33:54</td>\n",
       "      <td>3</td>\n",
       "    </tr>\n",
       "    <tr>\n",
       "      <th>384432</th>\n",
       "      <td>2025-03-27 06:30:41</td>\n",
       "      <td>3</td>\n",
       "    </tr>\n",
       "    <tr>\n",
       "      <th>...</th>\n",
       "      <td>...</td>\n",
       "      <td>...</td>\n",
       "    </tr>\n",
       "    <tr>\n",
       "      <th>3000668</th>\n",
       "      <td>2025-04-24 22:54:33</td>\n",
       "      <td>263</td>\n",
       "    </tr>\n",
       "    <tr>\n",
       "      <th>3002192</th>\n",
       "      <td>2025-04-24 22:57:20</td>\n",
       "      <td>263</td>\n",
       "    </tr>\n",
       "    <tr>\n",
       "      <th>3005247</th>\n",
       "      <td>2025-04-24 22:58:11</td>\n",
       "      <td>263</td>\n",
       "    </tr>\n",
       "    <tr>\n",
       "      <th>3005347</th>\n",
       "      <td>2025-04-24 22:58:17</td>\n",
       "      <td>263</td>\n",
       "    </tr>\n",
       "    <tr>\n",
       "      <th>3001246</th>\n",
       "      <td>2025-04-24 22:58:26</td>\n",
       "      <td>263</td>\n",
       "    </tr>\n",
       "  </tbody>\n",
       "</table>\n",
       "<p>3375752 rows × 2 columns</p>\n",
       "</div>"
      ],
      "text/plain": [
       "            pickup_datetime  pickup_location_id\n",
       "543495  2025-03-31 23:48:03                   2\n",
       "2755678 2025-04-22 16:43:51                   2\n",
       "7163    2025-03-27 04:01:43                   3\n",
       "7067    2025-03-27 04:33:54                   3\n",
       "384432  2025-03-27 06:30:41                   3\n",
       "...                     ...                 ...\n",
       "3000668 2025-04-24 22:54:33                 263\n",
       "3002192 2025-04-24 22:57:20                 263\n",
       "3005247 2025-04-24 22:58:11                 263\n",
       "3005347 2025-04-24 22:58:17                 263\n",
       "3001246 2025-04-24 22:58:26                 263\n",
       "\n",
       "[3375752 rows x 2 columns]"
      ]
     },
     "execution_count": 11,
     "metadata": {},
     "output_type": "execute_result"
    }
   ],
   "source": [
    "rides"
   ]
  },
  {
   "cell_type": "code",
   "execution_count": 12,
   "id": "783eebf6-7c7d-4ef8-9134-a92c87123146",
   "metadata": {},
   "outputs": [],
   "source": [
    "from src.data_utils import transform_raw_data_into_ts_data\n",
    "ts_data = transform_raw_data_into_ts_data(rides)"
   ]
  },
  {
   "cell_type": "code",
   "execution_count": 13,
   "id": "adbca6ba-f012-4f40-b419-ed620a8e7054",
   "metadata": {},
   "outputs": [
    {
     "data": {
      "application/vnd.microsoft.datawrangler.viewer.v0+json": {
       "columns": [
        {
         "name": "index",
         "rawType": "int64",
         "type": "integer"
        },
        {
         "name": "pickup_hour",
         "rawType": "datetime64[ns]",
         "type": "datetime"
        },
        {
         "name": "pickup_location_id",
         "rawType": "int16",
         "type": "integer"
        },
        {
         "name": "rides",
         "rawType": "int16",
         "type": "integer"
        }
       ],
       "conversionMethod": "pd.DataFrame",
       "ref": "049d8c67-45a3-4cfb-92ee-7e05400e06a2",
       "rows": [
        [
         "0",
         "2025-03-26 23:00:00",
         "2",
         "0"
        ],
        [
         "1",
         "2025-03-27 00:00:00",
         "2",
         "0"
        ],
        [
         "2",
         "2025-03-27 01:00:00",
         "2",
         "0"
        ],
        [
         "3",
         "2025-03-27 02:00:00",
         "2",
         "0"
        ],
        [
         "4",
         "2025-03-27 03:00:00",
         "2",
         "0"
        ],
        [
         "5",
         "2025-03-27 04:00:00",
         "2",
         "0"
        ],
        [
         "6",
         "2025-03-27 05:00:00",
         "2",
         "0"
        ],
        [
         "7",
         "2025-03-27 06:00:00",
         "2",
         "0"
        ],
        [
         "8",
         "2025-03-27 07:00:00",
         "2",
         "0"
        ],
        [
         "9",
         "2025-03-27 08:00:00",
         "2",
         "0"
        ],
        [
         "10",
         "2025-03-27 09:00:00",
         "2",
         "0"
        ],
        [
         "11",
         "2025-03-27 10:00:00",
         "2",
         "0"
        ],
        [
         "12",
         "2025-03-27 11:00:00",
         "2",
         "0"
        ],
        [
         "13",
         "2025-03-27 12:00:00",
         "2",
         "0"
        ],
        [
         "14",
         "2025-03-27 13:00:00",
         "2",
         "0"
        ],
        [
         "15",
         "2025-03-27 14:00:00",
         "2",
         "0"
        ],
        [
         "16",
         "2025-03-27 15:00:00",
         "2",
         "0"
        ],
        [
         "17",
         "2025-03-27 16:00:00",
         "2",
         "0"
        ],
        [
         "18",
         "2025-03-27 17:00:00",
         "2",
         "0"
        ],
        [
         "19",
         "2025-03-27 18:00:00",
         "2",
         "0"
        ],
        [
         "20",
         "2025-03-27 19:00:00",
         "2",
         "0"
        ],
        [
         "21",
         "2025-03-27 20:00:00",
         "2",
         "0"
        ],
        [
         "22",
         "2025-03-27 21:00:00",
         "2",
         "0"
        ],
        [
         "23",
         "2025-03-27 22:00:00",
         "2",
         "0"
        ],
        [
         "24",
         "2025-03-27 23:00:00",
         "2",
         "0"
        ],
        [
         "25",
         "2025-03-28 00:00:00",
         "2",
         "0"
        ],
        [
         "26",
         "2025-03-28 01:00:00",
         "2",
         "0"
        ],
        [
         "27",
         "2025-03-28 02:00:00",
         "2",
         "0"
        ],
        [
         "28",
         "2025-03-28 03:00:00",
         "2",
         "0"
        ],
        [
         "29",
         "2025-03-28 04:00:00",
         "2",
         "0"
        ],
        [
         "30",
         "2025-03-28 05:00:00",
         "2",
         "0"
        ],
        [
         "31",
         "2025-03-28 06:00:00",
         "2",
         "0"
        ],
        [
         "32",
         "2025-03-28 07:00:00",
         "2",
         "0"
        ],
        [
         "33",
         "2025-03-28 08:00:00",
         "2",
         "0"
        ],
        [
         "34",
         "2025-03-28 09:00:00",
         "2",
         "0"
        ],
        [
         "35",
         "2025-03-28 10:00:00",
         "2",
         "0"
        ],
        [
         "36",
         "2025-03-28 11:00:00",
         "2",
         "0"
        ],
        [
         "37",
         "2025-03-28 12:00:00",
         "2",
         "0"
        ],
        [
         "38",
         "2025-03-28 13:00:00",
         "2",
         "0"
        ],
        [
         "39",
         "2025-03-28 14:00:00",
         "2",
         "0"
        ],
        [
         "40",
         "2025-03-28 15:00:00",
         "2",
         "0"
        ],
        [
         "41",
         "2025-03-28 16:00:00",
         "2",
         "0"
        ],
        [
         "42",
         "2025-03-28 17:00:00",
         "2",
         "0"
        ],
        [
         "43",
         "2025-03-28 18:00:00",
         "2",
         "0"
        ],
        [
         "44",
         "2025-03-28 19:00:00",
         "2",
         "0"
        ],
        [
         "45",
         "2025-03-28 20:00:00",
         "2",
         "0"
        ],
        [
         "46",
         "2025-03-28 21:00:00",
         "2",
         "0"
        ],
        [
         "47",
         "2025-03-28 22:00:00",
         "2",
         "0"
        ],
        [
         "48",
         "2025-03-28 23:00:00",
         "2",
         "0"
        ],
        [
         "49",
         "2025-03-29 00:00:00",
         "2",
         "0"
        ]
       ],
       "shape": {
        "columns": 3,
        "rows": 177480
       }
      },
      "text/html": [
       "<div>\n",
       "<style scoped>\n",
       "    .dataframe tbody tr th:only-of-type {\n",
       "        vertical-align: middle;\n",
       "    }\n",
       "\n",
       "    .dataframe tbody tr th {\n",
       "        vertical-align: top;\n",
       "    }\n",
       "\n",
       "    .dataframe thead th {\n",
       "        text-align: right;\n",
       "    }\n",
       "</style>\n",
       "<table border=\"1\" class=\"dataframe\">\n",
       "  <thead>\n",
       "    <tr style=\"text-align: right;\">\n",
       "      <th></th>\n",
       "      <th>pickup_hour</th>\n",
       "      <th>pickup_location_id</th>\n",
       "      <th>rides</th>\n",
       "    </tr>\n",
       "  </thead>\n",
       "  <tbody>\n",
       "    <tr>\n",
       "      <th>0</th>\n",
       "      <td>2025-03-26 23:00:00</td>\n",
       "      <td>2</td>\n",
       "      <td>0</td>\n",
       "    </tr>\n",
       "    <tr>\n",
       "      <th>1</th>\n",
       "      <td>2025-03-27 00:00:00</td>\n",
       "      <td>2</td>\n",
       "      <td>0</td>\n",
       "    </tr>\n",
       "    <tr>\n",
       "      <th>2</th>\n",
       "      <td>2025-03-27 01:00:00</td>\n",
       "      <td>2</td>\n",
       "      <td>0</td>\n",
       "    </tr>\n",
       "    <tr>\n",
       "      <th>3</th>\n",
       "      <td>2025-03-27 02:00:00</td>\n",
       "      <td>2</td>\n",
       "      <td>0</td>\n",
       "    </tr>\n",
       "    <tr>\n",
       "      <th>4</th>\n",
       "      <td>2025-03-27 03:00:00</td>\n",
       "      <td>2</td>\n",
       "      <td>0</td>\n",
       "    </tr>\n",
       "    <tr>\n",
       "      <th>...</th>\n",
       "      <td>...</td>\n",
       "      <td>...</td>\n",
       "      <td>...</td>\n",
       "    </tr>\n",
       "    <tr>\n",
       "      <th>177475</th>\n",
       "      <td>2025-04-24 18:00:00</td>\n",
       "      <td>263</td>\n",
       "      <td>149</td>\n",
       "    </tr>\n",
       "    <tr>\n",
       "      <th>177476</th>\n",
       "      <td>2025-04-24 19:00:00</td>\n",
       "      <td>263</td>\n",
       "      <td>122</td>\n",
       "    </tr>\n",
       "    <tr>\n",
       "      <th>177477</th>\n",
       "      <td>2025-04-24 20:00:00</td>\n",
       "      <td>263</td>\n",
       "      <td>97</td>\n",
       "    </tr>\n",
       "    <tr>\n",
       "      <th>177478</th>\n",
       "      <td>2025-04-24 21:00:00</td>\n",
       "      <td>263</td>\n",
       "      <td>121</td>\n",
       "    </tr>\n",
       "    <tr>\n",
       "      <th>177479</th>\n",
       "      <td>2025-04-24 22:00:00</td>\n",
       "      <td>263</td>\n",
       "      <td>112</td>\n",
       "    </tr>\n",
       "  </tbody>\n",
       "</table>\n",
       "<p>177480 rows × 3 columns</p>\n",
       "</div>"
      ],
      "text/plain": [
       "               pickup_hour  pickup_location_id  rides\n",
       "0      2025-03-26 23:00:00                   2      0\n",
       "1      2025-03-27 00:00:00                   2      0\n",
       "2      2025-03-27 01:00:00                   2      0\n",
       "3      2025-03-27 02:00:00                   2      0\n",
       "4      2025-03-27 03:00:00                   2      0\n",
       "...                    ...                 ...    ...\n",
       "177475 2025-04-24 18:00:00                 263    149\n",
       "177476 2025-04-24 19:00:00                 263    122\n",
       "177477 2025-04-24 20:00:00                 263     97\n",
       "177478 2025-04-24 21:00:00                 263    121\n",
       "177479 2025-04-24 22:00:00                 263    112\n",
       "\n",
       "[177480 rows x 3 columns]"
      ]
     },
     "execution_count": 13,
     "metadata": {},
     "output_type": "execute_result"
    }
   ],
   "source": [
    "ts_data"
   ]
  },
  {
   "cell_type": "code",
   "execution_count": 14,
   "id": "0b8f1dc6-46d6-4fad-915b-c8c4c02b9887",
   "metadata": {},
   "outputs": [
    {
     "name": "stdout",
     "output_type": "stream",
     "text": [
      "<class 'pandas.core.frame.DataFrame'>\n",
      "RangeIndex: 177480 entries, 0 to 177479\n",
      "Data columns (total 3 columns):\n",
      " #   Column              Non-Null Count   Dtype         \n",
      "---  ------              --------------   -----         \n",
      " 0   pickup_hour         177480 non-null  datetime64[ns]\n",
      " 1   pickup_location_id  177480 non-null  int16         \n",
      " 2   rides               177480 non-null  int16         \n",
      "dtypes: datetime64[ns](1), int16(2)\n",
      "memory usage: 2.0 MB\n"
     ]
    }
   ],
   "source": [
    "ts_data.info()"
   ]
  },
  {
   "cell_type": "code",
   "execution_count": 15,
   "id": "0c2d5acd-0f97-4117-b61d-6135391891db",
   "metadata": {},
   "outputs": [
    {
     "name": "stdout",
     "output_type": "stream",
     "text": [
      "2025-04-24 19:21:54,523 INFO: Initializing external client\n",
      "2025-04-24 19:21:54,524 INFO: Base URL: https://c.app.hopsworks.ai:443\n"
     ]
    },
    {
     "name": "stderr",
     "output_type": "stream",
     "text": [
      "\n",
      "\n",
      "UserWarning: The installed hopsworks client version 4.1.5 may not be compatible with the connected Hopsworks backend version 4.2.0. \n",
      "To ensure compatibility please install the latest bug fix release matching the minor version of your backend (4.2) by running 'pip install hopsworks==4.2.*'\n"
     ]
    },
    {
     "name": "stdout",
     "output_type": "stream",
     "text": [
      "2025-04-24 19:21:55,507 INFO: Python Engine initialized.\n",
      "\n",
      "Logged in to project, explore it here https://c.app.hopsworks.ai:443/p/1214677\n"
     ]
    }
   ],
   "source": [
    "import hopsworks\n",
    "\n",
    "# connect to the project\n",
    "project = hopsworks.login(\n",
    "    project=config.HOPSWORKS_PROJECT_NAME,\n",
    "    api_key_value=config.HOPSWORKS_API_KEY\n",
    ")\n",
    "\n",
    "# connect to the feature store\n",
    "feature_store = project.get_feature_store()\n",
    "\n",
    "# connect to the feature group\n",
    "feature_group = feature_store.get_feature_group(\n",
    "    name=config.FEATURE_GROUP_NAME,\n",
    "    version=config.FEATURE_GROUP_VERSION,\n",
    ")\n",
    "\n"
   ]
  },
  {
   "cell_type": "code",
   "execution_count": 16,
   "id": "b3093058-9e94-4b49-9ad9-32dace742a31",
   "metadata": {},
   "outputs": [
    {
     "name": "stderr",
     "output_type": "stream",
     "text": [
      "Uploading Dataframe: 100.00% |██████████| Rows 177480/177480 | Elapsed Time: 00:07 | Remaining Time: 00:00\n",
      "UserWarning: Materialization job is already running, aborting new execution.Please wait for the current execution to finish before triggering a new one.You can check the status of the current execution using `fg.materialization_job.get_state()`.or `fg.materialization_job.get_final_state()` or check it out in the Hopsworks UI.at https://c.app.hopsworks.ai:443/p/1214677/jobs/named/time_series_hourly_feature_group_1_offline_fg_materialization.\n",
      "Use fg.materialization_job.run(args=-op offline_fg_materialization -path hdfs:///Projects/new_york_taxi/Resources/jobs/time_series_hourly_feature_group_1_offline_fg_materialization/config_1741010238064) to trigger the materialization job again.\n"
     ]
    },
    {
     "data": {
      "text/plain": [
       "(Job('time_series_hourly_feature_group_1_offline_fg_materialization', 'SPARK'),\n",
       " None)"
      ]
     },
     "execution_count": 16,
     "metadata": {},
     "output_type": "execute_result"
    }
   ],
   "source": [
    "feature_group.insert(ts_data, write_options={\"wait_for_job\": False})"
   ]
  }
 ],
 "metadata": {
  "kernelspec": {
   "display_name": ".venv",
   "language": "python",
   "name": "python3"
  },
  "language_info": {
   "codemirror_mode": {
    "name": "ipython",
    "version": 3
   },
   "file_extension": ".py",
   "mimetype": "text/x-python",
   "name": "python",
   "nbconvert_exporter": "python",
   "pygments_lexer": "ipython3",
   "version": "3.11.9"
  }
 },
 "nbformat": 4,
 "nbformat_minor": 5
}
