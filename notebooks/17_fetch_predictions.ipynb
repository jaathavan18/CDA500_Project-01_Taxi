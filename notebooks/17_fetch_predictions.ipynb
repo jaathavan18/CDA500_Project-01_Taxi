{
 "cells": [
  {
   "cell_type": "code",
   "execution_count": 1,
   "id": "1555e775-4045-409a-a2cd-b22934b5fe3b",
   "metadata": {},
   "outputs": [],
   "source": [
    "%load_ext autoreload\n",
    "%autoreload 2"
   ]
  },
  {
   "cell_type": "code",
   "execution_count": 2,
   "id": "15e2d67e-a5c7-453c-84e8-a210c608e9f0",
   "metadata": {},
   "outputs": [],
   "source": [
    "import sys\n",
    "import os\n",
    "\n",
    "# Add the parent directory to the Python path\n",
    "sys.path.append(os.path.abspath(os.path.join(os.getcwd(), \"..\")))\n",
    "import src.config as config"
   ]
  },
  {
   "cell_type": "code",
   "execution_count": 3,
   "id": "05248d6f-2194-48dd-a582-77cbda1ad16c",
   "metadata": {},
   "outputs": [
    {
     "name": "stdout",
     "output_type": "stream",
     "text": [
      "Current UTC hour (ceiled): 2025-04-25 00:00:00+00:00\n"
     ]
    }
   ],
   "source": [
    "import src.config as config\n",
    "from src.inference import (\n",
    "    get_feature_store\n",
    ")\n",
    "\n",
    "from datetime import datetime, timezone, timedelta\n",
    "\n",
    "def get_current_utc_hour_ceiled():\n",
    "    \"\"\"Get current UTC time ceiled to the next hour\"\"\"\n",
    "    current = datetime.now(timezone.utc)\n",
    "    if current.minute > 0 or current.second > 0:\n",
    "        # Ceil to next hour\n",
    "        current = current + timedelta(hours=1)\n",
    "\n",
    "    # Reset minutes, seconds, and microseconds\n",
    "    current = current.replace(minute=0, second=0, microsecond=0)\n",
    "    return current\n",
    "\n",
    "# Usage\n",
    "current_hour = get_current_utc_hour_ceiled()\n",
    "print(f\"Current UTC hour (ceiled): {current_hour}\")"
   ]
  },
  {
   "cell_type": "code",
   "execution_count": 4,
   "id": "5c5559a0-89e2-458d-9bbc-b1ec103659f6",
   "metadata": {},
   "outputs": [],
   "source": [
    "def fetch_predictions():\n",
    "    current_date = pd.Timestamp.now(tz='Etc/UTC').ceil('h')\n",
    "\n",
    "    fs = get_feature_store()\n",
    "    fg = fs.get_feature_group(\n",
    "        name=config.FEATURE_GROUP_MODEL_PREDICTION,\n",
    "        version=1\n",
    "    )\n",
    "\n",
    "    query = fg.select_all()\n",
    "    query = query.filter(fg.pickup_hour == current_hour)\n",
    "\n",
    "    return query.read()"
   ]
  },
  {
   "cell_type": "code",
   "execution_count": 5,
   "id": "53a3af64-b773-43a6-bb10-c9e209cc6cb0",
   "metadata": {},
   "outputs": [
    {
     "name": "stdout",
     "output_type": "stream",
     "text": [
      "2025-04-24 19:32:34,808 INFO: Initializing external client\n",
      "2025-04-24 19:32:34,809 INFO: Base URL: https://c.app.hopsworks.ai:443\n"
     ]
    },
    {
     "name": "stderr",
     "output_type": "stream",
     "text": [
      "\n",
      "\n",
      "UserWarning: The installed hopsworks client version 4.1.5 may not be compatible with the connected Hopsworks backend version 4.2.0. \n",
      "To ensure compatibility please install the latest bug fix release matching the minor version of your backend (4.2) by running 'pip install hopsworks==4.2.*'\n"
     ]
    },
    {
     "name": "stdout",
     "output_type": "stream",
     "text": [
      "2025-04-24 19:32:35,769 INFO: Python Engine initialized.\n",
      "\n",
      "Logged in to project, explore it here https://c.app.hopsworks.ai:443/p/1214677\n"
     ]
    }
   ],
   "source": [
    "fs = get_feature_store()\n",
    "fg = fs.get_feature_group(\n",
    "    name=config.FEATURE_GROUP_MODEL_PREDICTION,\n",
    "    version=1\n",
    ")\n",
    "\n",
    "query = fg.select_all()"
   ]
  },
  {
   "cell_type": "code",
   "execution_count": 6,
   "id": "c6321059-d894-4f75-94c8-b4ea29bf8ea5",
   "metadata": {},
   "outputs": [
    {
     "name": "stdout",
     "output_type": "stream",
     "text": [
      "Finished: Reading data from Hopsworks, using Hopsworks Feature Query Service (0.76s) \n"
     ]
    }
   ],
   "source": [
    "df= query.read()"
   ]
  },
  {
   "cell_type": "code",
   "execution_count": 7,
   "id": "367f3978-9a5d-4d97-b19a-88afcfb1d14f",
   "metadata": {},
   "outputs": [
    {
     "data": {
      "text/plain": [
       "Timestamp('2025-03-06 04:00:00+0000', tz='Etc/UTC')"
      ]
     },
     "execution_count": 7,
     "metadata": {},
     "output_type": "execute_result"
    }
   ],
   "source": [
    "df[\"pickup_hour\"].max()"
   ]
  },
  {
   "cell_type": "code",
   "execution_count": 8,
   "id": "8d03786a-90dc-425a-8e4e-3b4dca4a08fa",
   "metadata": {},
   "outputs": [
    {
     "data": {
      "application/vnd.microsoft.datawrangler.viewer.v0+json": {
       "columns": [
        {
         "name": "index",
         "rawType": "int64",
         "type": "integer"
        },
        {
         "name": "pickup_location_id",
         "rawType": "int32",
         "type": "integer"
        },
        {
         "name": "predicted_demand",
         "rawType": "float64",
         "type": "float"
        },
        {
         "name": "pickup_hour",
         "rawType": "datetime64[us, Etc/UTC]",
         "type": "unknown"
        }
       ],
       "conversionMethod": "pd.DataFrame",
       "ref": "109935a2-1cb0-4eaf-9fd2-1b4d6f68d658",
       "rows": [
        [
         "0",
         "177",
         "1.0",
         "2025-03-03 15:00:00+00:00"
        ],
        [
         "1",
         "72",
         "2.0",
         "2025-03-03 15:00:00+00:00"
        ],
        [
         "2",
         "16",
         "0.0",
         "2025-03-03 15:00:00+00:00"
        ],
        [
         "3",
         "209",
         "4.0",
         "2025-03-03 15:00:00+00:00"
        ],
        [
         "4",
         "68",
         "123.0",
         "2025-03-03 15:00:00+00:00"
        ],
        [
         "5",
         "32",
         "0.0",
         "2025-03-03 15:00:00+00:00"
        ],
        [
         "6",
         "89",
         "1.0",
         "2025-03-03 15:00:00+00:00"
        ],
        [
         "7",
         "113",
         "106.0",
         "2025-03-03 15:00:00+00:00"
        ],
        [
         "8",
         "132",
         "182.0",
         "2025-03-03 15:00:00+00:00"
        ],
        [
         "9",
         "11",
         "0.0",
         "2025-03-03 15:00:00+00:00"
        ],
        [
         "10",
         "235",
         "0.0",
         "2025-03-03 15:00:00+00:00"
        ],
        [
         "11",
         "256",
         "7.0",
         "2025-03-03 15:00:00+00:00"
        ],
        [
         "12",
         "60",
         "0.0",
         "2025-03-03 15:00:00+00:00"
        ],
        [
         "13",
         "244",
         "3.0",
         "2025-03-03 15:00:00+00:00"
        ],
        [
         "14",
         "149",
         "0.0",
         "2025-03-03 15:00:00+00:00"
        ],
        [
         "15",
         "165",
         "0.0",
         "2025-03-03 15:00:00+00:00"
        ],
        [
         "16",
         "144",
         "65.0",
         "2025-03-03 15:00:00+00:00"
        ],
        [
         "17",
         "189",
         "0.0",
         "2025-03-03 15:00:00+00:00"
        ],
        [
         "18",
         "216",
         "1.0",
         "2025-03-03 15:00:00+00:00"
        ],
        [
         "19",
         "49",
         "1.0",
         "2025-03-03 15:00:00+00:00"
        ],
        [
         "20",
         "28",
         "0.0",
         "2025-03-03 15:00:00+00:00"
        ],
        [
         "21",
         "263",
         "99.0",
         "2025-03-03 15:00:00+00:00"
        ],
        [
         "22",
         "153",
         "0.0",
         "2025-03-03 15:00:00+00:00"
        ],
        [
         "23",
         "160",
         "0.0",
         "2025-03-03 15:00:00+00:00"
        ],
        [
         "24",
         "228",
         "0.0",
         "2025-03-03 15:00:00+00:00"
        ],
        [
         "25",
         "56",
         "0.0",
         "2025-03-03 15:00:00+00:00"
        ],
        [
         "26",
         "91",
         "1.0",
         "2025-03-03 15:00:00+00:00"
        ],
        [
         "27",
         "251",
         "0.0",
         "2025-03-03 15:00:00+00:00"
        ],
        [
         "28",
         "7",
         "3.0",
         "2025-03-03 15:00:00+00:00"
        ],
        [
         "29",
         "193",
         "2.0",
         "2025-03-03 15:00:00+00:00"
        ],
        [
         "30",
         "37",
         "1.0",
         "2025-03-03 15:00:00+00:00"
        ],
        [
         "31",
         "77",
         "0.0",
         "2025-03-03 15:00:00+00:00"
        ],
        [
         "32",
         "137",
         "32.0",
         "2025-03-03 15:00:00+00:00"
        ],
        [
         "33",
         "4",
         "6.0",
         "2025-03-03 15:00:00+00:00"
        ],
        [
         "34",
         "96",
         "0.0",
         "2025-03-03 15:00:00+00:00"
        ],
        [
         "35",
         "116",
         "3.0",
         "2025-03-03 15:00:00+00:00"
        ],
        [
         "36",
         "20",
         "0.0",
         "2025-03-03 15:00:00+00:00"
        ],
        [
         "37",
         "120",
         "0.0",
         "2025-03-03 15:00:00+00:00"
        ],
        [
         "38",
         "51",
         "0.0",
         "2025-03-03 15:00:00+00:00"
        ],
        [
         "39",
         "198",
         "0.0",
         "2025-03-03 15:00:00+00:00"
        ],
        [
         "40",
         "23",
         "0.0",
         "2025-03-03 15:00:00+00:00"
        ],
        [
         "41",
         "184",
         "0.0",
         "2025-03-03 15:00:00+00:00"
        ],
        [
         "42",
         "172",
         "0.0",
         "2025-03-03 15:00:00+00:00"
        ],
        [
         "43",
         "211",
         "17.0",
         "2025-03-03 15:00:00+00:00"
        ],
        [
         "44",
         "65",
         "2.0",
         "2025-03-03 15:00:00+00:00"
        ],
        [
         "45",
         "249",
         "126.0",
         "2025-03-03 15:00:00+00:00"
        ],
        [
         "46",
         "125",
         "26.0",
         "2025-03-03 15:00:00+00:00"
        ],
        [
         "47",
         "223",
         "1.0",
         "2025-03-03 15:00:00+00:00"
        ],
        [
         "48",
         "175",
         "0.0",
         "2025-03-03 15:00:00+00:00"
        ],
        [
         "49",
         "214",
         "0.0",
         "2025-03-03 15:00:00+00:00"
        ]
       ],
       "shape": {
        "columns": 3,
        "rows": 10809
       }
      },
      "text/html": [
       "<div>\n",
       "<style scoped>\n",
       "    .dataframe tbody tr th:only-of-type {\n",
       "        vertical-align: middle;\n",
       "    }\n",
       "\n",
       "    .dataframe tbody tr th {\n",
       "        vertical-align: top;\n",
       "    }\n",
       "\n",
       "    .dataframe thead th {\n",
       "        text-align: right;\n",
       "    }\n",
       "</style>\n",
       "<table border=\"1\" class=\"dataframe\">\n",
       "  <thead>\n",
       "    <tr style=\"text-align: right;\">\n",
       "      <th></th>\n",
       "      <th>pickup_location_id</th>\n",
       "      <th>predicted_demand</th>\n",
       "      <th>pickup_hour</th>\n",
       "    </tr>\n",
       "  </thead>\n",
       "  <tbody>\n",
       "    <tr>\n",
       "      <th>0</th>\n",
       "      <td>177</td>\n",
       "      <td>1.0</td>\n",
       "      <td>2025-03-03 15:00:00+00:00</td>\n",
       "    </tr>\n",
       "    <tr>\n",
       "      <th>1</th>\n",
       "      <td>72</td>\n",
       "      <td>2.0</td>\n",
       "      <td>2025-03-03 15:00:00+00:00</td>\n",
       "    </tr>\n",
       "    <tr>\n",
       "      <th>2</th>\n",
       "      <td>16</td>\n",
       "      <td>0.0</td>\n",
       "      <td>2025-03-03 15:00:00+00:00</td>\n",
       "    </tr>\n",
       "    <tr>\n",
       "      <th>3</th>\n",
       "      <td>209</td>\n",
       "      <td>4.0</td>\n",
       "      <td>2025-03-03 15:00:00+00:00</td>\n",
       "    </tr>\n",
       "    <tr>\n",
       "      <th>4</th>\n",
       "      <td>68</td>\n",
       "      <td>123.0</td>\n",
       "      <td>2025-03-03 15:00:00+00:00</td>\n",
       "    </tr>\n",
       "    <tr>\n",
       "      <th>...</th>\n",
       "      <td>...</td>\n",
       "      <td>...</td>\n",
       "      <td>...</td>\n",
       "    </tr>\n",
       "    <tr>\n",
       "      <th>10804</th>\n",
       "      <td>160</td>\n",
       "      <td>0.0</td>\n",
       "      <td>2025-03-06 04:00:00+00:00</td>\n",
       "    </tr>\n",
       "    <tr>\n",
       "      <th>10805</th>\n",
       "      <td>45</td>\n",
       "      <td>10.0</td>\n",
       "      <td>2025-03-06 04:00:00+00:00</td>\n",
       "    </tr>\n",
       "    <tr>\n",
       "      <th>10806</th>\n",
       "      <td>93</td>\n",
       "      <td>0.0</td>\n",
       "      <td>2025-03-06 04:00:00+00:00</td>\n",
       "    </tr>\n",
       "    <tr>\n",
       "      <th>10807</th>\n",
       "      <td>146</td>\n",
       "      <td>1.0</td>\n",
       "      <td>2025-03-06 04:00:00+00:00</td>\n",
       "    </tr>\n",
       "    <tr>\n",
       "      <th>10808</th>\n",
       "      <td>79</td>\n",
       "      <td>41.0</td>\n",
       "      <td>2025-03-06 04:00:00+00:00</td>\n",
       "    </tr>\n",
       "  </tbody>\n",
       "</table>\n",
       "<p>10809 rows × 3 columns</p>\n",
       "</div>"
      ],
      "text/plain": [
       "       pickup_location_id  predicted_demand               pickup_hour\n",
       "0                     177               1.0 2025-03-03 15:00:00+00:00\n",
       "1                      72               2.0 2025-03-03 15:00:00+00:00\n",
       "2                      16               0.0 2025-03-03 15:00:00+00:00\n",
       "3                     209               4.0 2025-03-03 15:00:00+00:00\n",
       "4                      68             123.0 2025-03-03 15:00:00+00:00\n",
       "...                   ...               ...                       ...\n",
       "10804                 160               0.0 2025-03-06 04:00:00+00:00\n",
       "10805                  45              10.0 2025-03-06 04:00:00+00:00\n",
       "10806                  93               0.0 2025-03-06 04:00:00+00:00\n",
       "10807                 146               1.0 2025-03-06 04:00:00+00:00\n",
       "10808                  79              41.0 2025-03-06 04:00:00+00:00\n",
       "\n",
       "[10809 rows x 3 columns]"
      ]
     },
     "execution_count": 8,
     "metadata": {},
     "output_type": "execute_result"
    }
   ],
   "source": [
    "df"
   ]
  },
  {
   "cell_type": "code",
   "execution_count": 9,
   "id": "90415d0c-053a-4fba-94dd-eb6d231875bd",
   "metadata": {},
   "outputs": [],
   "source": [
    "#a.info()"
   ]
  },
  {
   "cell_type": "code",
   "execution_count": 10,
   "id": "39ea132b-5a59-44cb-b155-fa765164e3cc",
   "metadata": {},
   "outputs": [
    {
     "name": "stdout",
     "output_type": "stream",
     "text": [
      "2025-04-24 19:32:39,743 INFO: Closing external client and cleaning up certificates.\n",
      "Connection closed.\n",
      "2025-04-24 19:32:39,750 INFO: Initializing external client\n",
      "2025-04-24 19:32:39,750 INFO: Base URL: https://c.app.hopsworks.ai:443\n"
     ]
    },
    {
     "name": "stderr",
     "output_type": "stream",
     "text": [
      "\n",
      "\n",
      "UserWarning: The installed hopsworks client version 4.1.5 may not be compatible with the connected Hopsworks backend version 4.2.0. \n",
      "To ensure compatibility please install the latest bug fix release matching the minor version of your backend (4.2) by running 'pip install hopsworks==4.2.*'\n"
     ]
    },
    {
     "name": "stdout",
     "output_type": "stream",
     "text": [
      "2025-04-24 19:32:40,521 INFO: Python Engine initialized.\n",
      "\n",
      "Logged in to project, explore it here https://c.app.hopsworks.ai:443/p/1214677\n",
      "Current UTC time: 2025-04-24 23:32:39.743845+00:00\n",
      "Next hour: 2025-04-25 00:00:00+00:00\n",
      "Querying for date range: 2025-04-25 to 2025-04-26\n",
      "Filtering for hour: 2025-04-25 00:00\n",
      "Found 0 records\n"
     ]
    }
   ],
   "source": [
    "from datetime import datetime, timezone, timedelta\n",
    "\n",
    "def fetch_next_hour_predictions():\n",
    "    # Get current UTC time and round up to next hour\n",
    "    now = datetime.now(timezone.utc)\n",
    "    next_hour = (now + timedelta(hours=1)).replace(minute=0, second=0, microsecond=0)\n",
    "\n",
    "    # Extract components from the rounded-up time\n",
    "    year = next_hour.year\n",
    "    month = next_hour.month\n",
    "    day = next_hour.day\n",
    "    hour = next_hour.hour\n",
    "\n",
    "    # Create date strings in YYYY-MM-DD format\n",
    "    current_date = f\"{year}-{month:02d}-{day:02d}\"\n",
    "    next_date = next_hour + timedelta(days=1)\n",
    "    next_date_str = next_date.strftime(\"%Y-%m-%d\")\n",
    "\n",
    "    fs = get_feature_store()\n",
    "    fg = fs.get_feature_group(\n",
    "        name=config.FEATURE_GROUP_MODEL_PREDICTION,\n",
    "        version=1\n",
    "    )\n",
    "\n",
    "    # # First get the full day's data from Hopsworks\n",
    "    # df = fg.filter(\n",
    "    #     (fg.pickup_hour >= current_date) &\n",
    "    #     (fg.pickup_hour < next_date_str)\n",
    "    # ).read()\n",
    "\n",
    "    # Then filter for next hour in the DataFrame\n",
    "    hour_str = f\"{current_date} {hour:02d}:00\"\n",
    "    df_hour = df[df['pickup_hour'] == hour_str]\n",
    "\n",
    "    print(f\"Current UTC time: {now}\")\n",
    "    print(f\"Next hour: {next_hour}\")\n",
    "    print(f\"Querying for date range: {current_date} to {next_date_str}\")\n",
    "    print(f\"Filtering for hour: {hour_str}\")\n",
    "    print(f\"Found {len(df_hour)} records\")\n",
    "    return df_hour\n",
    "\n",
    "# Example usage:\n",
    "predictions = fetch_next_hour_predictions()"
   ]
  },
  {
   "cell_type": "code",
   "execution_count": 11,
   "id": "4c512f98-d569-4a9f-8391-d301b1226c91",
   "metadata": {},
   "outputs": [],
   "source": [
    "now = datetime.now(timezone.utc)"
   ]
  },
  {
   "cell_type": "code",
   "execution_count": 12,
   "id": "0e5671d3-701d-4fca-bb91-a697f622239a",
   "metadata": {},
   "outputs": [
    {
     "data": {
      "application/vnd.microsoft.datawrangler.viewer.v0+json": {
       "columns": [
        {
         "name": "index",
         "rawType": "int64",
         "type": "integer"
        },
        {
         "name": "pickup_location_id",
         "rawType": "int32",
         "type": "integer"
        },
        {
         "name": "predicted_demand",
         "rawType": "float64",
         "type": "float"
        },
        {
         "name": "pickup_hour",
         "rawType": "datetime64[us, Etc/UTC]",
         "type": "unknown"
        }
       ],
       "conversionMethod": "pd.DataFrame",
       "ref": "dc82454e-5998-42b3-be68-719bc86a4d72",
       "rows": [],
       "shape": {
        "columns": 3,
        "rows": 0
       }
      },
      "text/html": [
       "<div>\n",
       "<style scoped>\n",
       "    .dataframe tbody tr th:only-of-type {\n",
       "        vertical-align: middle;\n",
       "    }\n",
       "\n",
       "    .dataframe tbody tr th {\n",
       "        vertical-align: top;\n",
       "    }\n",
       "\n",
       "    .dataframe thead th {\n",
       "        text-align: right;\n",
       "    }\n",
       "</style>\n",
       "<table border=\"1\" class=\"dataframe\">\n",
       "  <thead>\n",
       "    <tr style=\"text-align: right;\">\n",
       "      <th></th>\n",
       "      <th>pickup_location_id</th>\n",
       "      <th>predicted_demand</th>\n",
       "      <th>pickup_hour</th>\n",
       "    </tr>\n",
       "  </thead>\n",
       "  <tbody>\n",
       "  </tbody>\n",
       "</table>\n",
       "</div>"
      ],
      "text/plain": [
       "Empty DataFrame\n",
       "Columns: [pickup_location_id, predicted_demand, pickup_hour]\n",
       "Index: []"
      ]
     },
     "execution_count": 12,
     "metadata": {},
     "output_type": "execute_result"
    }
   ],
   "source": [
    "predictions"
   ]
  },
  {
   "cell_type": "code",
   "execution_count": 13,
   "id": "48c2c460-25c6-4c26-84e8-ae82a1fdcf33",
   "metadata": {},
   "outputs": [
    {
     "name": "stdout",
     "output_type": "stream",
     "text": [
      "<class 'pandas.core.frame.DataFrame'>\n",
      "RangeIndex: 10809 entries, 0 to 10808\n",
      "Data columns (total 3 columns):\n",
      " #   Column              Non-Null Count  Dtype                  \n",
      "---  ------              --------------  -----                  \n",
      " 0   pickup_location_id  10809 non-null  int32                  \n",
      " 1   predicted_demand    10809 non-null  float64                \n",
      " 2   pickup_hour         10809 non-null  datetime64[us, Etc/UTC]\n",
      "dtypes: datetime64[us, Etc/UTC](1), float64(1), int32(1)\n",
      "memory usage: 211.2 KB\n"
     ]
    }
   ],
   "source": [
    "df.info()"
   ]
  },
  {
   "cell_type": "code",
   "execution_count": 14,
   "id": "5930b159-b4e4-4b51-acd9-0b7b167b6236",
   "metadata": {},
   "outputs": [],
   "source": [
    "import pandas as pd\n",
    "current_date = pd.Timestamp.now(tz='Etc/UTC').ceil('h')"
   ]
  },
  {
   "cell_type": "code",
   "execution_count": 15,
   "id": "14cb7cca-beba-4017-9fa0-5ad7b6acfe90",
   "metadata": {},
   "outputs": [],
   "source": [
    "dt = current_date.ceil('h')\n"
   ]
  },
  {
   "cell_type": "code",
   "execution_count": 16,
   "id": "455e4d11-8a5a-434c-b634-bbf9edd02bd7",
   "metadata": {},
   "outputs": [],
   "source": [
    "# fs = get_feature_store()  \n",
    "# fg = fs.get_feature_group(  \n",
    "#     name=config.FEATURE_GROUP_MODEL_PREDICTION,  \n",
    "#     version=1  \n",
    "# )  \n",
    "# query = fg.select_all() \n",
    "# # query = query.filter(fg.pickup_hour >= \"2025-02-13 04:00\")\n",
    "# query = query.filter(fg.pickup_hour > \"2025-02-13 05:00:00\")  \n",
    "# results = query.read()"
   ]
  },
  {
   "cell_type": "code",
   "execution_count": 17,
   "id": "fab34fc8-2594-4dfd-8046-fa7ede562979",
   "metadata": {},
   "outputs": [],
   "source": [
    "# fg.filter((fg.pickup_hour >= \"2025-02-13\") & (fg.pickup_hour < \"2025-02-14\")).read()"
   ]
  },
  {
   "cell_type": "code",
   "execution_count": 18,
   "id": "bb732f4b-65ee-4956-87b5-c9a9c2f367b3",
   "metadata": {},
   "outputs": [],
   "source": [
    "# results"
   ]
  },
  {
   "cell_type": "code",
   "execution_count": 19,
   "id": "3015ad82-b0b7-42e0-b6e3-6e69550da93a",
   "metadata": {},
   "outputs": [],
   "source": [
    "# def fetch_next_hour_predictions():\n",
    "#     # Get current UTC time and round up to next hour\n",
    "#     now = datetime.now(timezone.utc)\n",
    "#     next_hour = (now + timedelta(hours=2)).replace(minute=0, second=0, microsecond=0)\n",
    "\n",
    "#     fs = get_feature_store()\n",
    "#     fg = fs.get_feature_group(name=config.FEATURE_GROUP_MODEL_PREDICTION, version=1)\n",
    "\n",
    "#     # Then filter for next hour in the DataFrame\n",
    "#     df_hour = df[df[\"pickup_hour\"] == next_hour]\n",
    "\n",
    "#     print(f\"Current UTC time: {now}\")\n",
    "#     print(f\"Next hour: {next_hour}\")\n",
    "#     print(f\"Found {len(df_hour)} records\")\n",
    "#     return df_hour"
   ]
  },
  {
   "cell_type": "code",
   "execution_count": 20,
   "id": "1a42dc2b-f1b3-40a2-8610-1bed9c822355",
   "metadata": {},
   "outputs": [],
   "source": [
    "# predictions = fetch_next_hour_predictions()"
   ]
  },
  {
   "cell_type": "code",
   "execution_count": 21,
   "id": "6495da67-1068-41e0-9092-458c11626900",
   "metadata": {},
   "outputs": [],
   "source": [
    "# fs = get_feature_store()\n",
    "# fg = fs.get_feature_group(name=config.FEATURE_GROUP_MODEL_PREDICTION, version=1)\n",
    "\n"
   ]
  },
  {
   "cell_type": "code",
   "execution_count": 22,
   "id": "9761c899-38c7-4560-9226-d41ce20811df",
   "metadata": {},
   "outputs": [],
   "source": [
    "# df = fg.read()"
   ]
  },
  {
   "cell_type": "code",
   "execution_count": 23,
   "id": "f9bc2a28",
   "metadata": {},
   "outputs": [
    {
     "data": {
      "application/vnd.microsoft.datawrangler.viewer.v0+json": {
       "columns": [
        {
         "name": "index",
         "rawType": "int64",
         "type": "integer"
        },
        {
         "name": "pickup_location_id",
         "rawType": "int32",
         "type": "integer"
        },
        {
         "name": "predicted_demand",
         "rawType": "float64",
         "type": "float"
        },
        {
         "name": "pickup_hour",
         "rawType": "datetime64[us, Etc/UTC]",
         "type": "unknown"
        }
       ],
       "conversionMethod": "pd.DataFrame",
       "ref": "8677155e-c530-48e8-93cf-af502291ebda",
       "rows": [
        [
         "0",
         "177",
         "1.0",
         "2025-03-03 15:00:00+00:00"
        ],
        [
         "1",
         "72",
         "2.0",
         "2025-03-03 15:00:00+00:00"
        ],
        [
         "2",
         "16",
         "0.0",
         "2025-03-03 15:00:00+00:00"
        ],
        [
         "3",
         "209",
         "4.0",
         "2025-03-03 15:00:00+00:00"
        ],
        [
         "4",
         "68",
         "123.0",
         "2025-03-03 15:00:00+00:00"
        ],
        [
         "5",
         "32",
         "0.0",
         "2025-03-03 15:00:00+00:00"
        ],
        [
         "6",
         "89",
         "1.0",
         "2025-03-03 15:00:00+00:00"
        ],
        [
         "7",
         "113",
         "106.0",
         "2025-03-03 15:00:00+00:00"
        ],
        [
         "8",
         "132",
         "182.0",
         "2025-03-03 15:00:00+00:00"
        ],
        [
         "9",
         "11",
         "0.0",
         "2025-03-03 15:00:00+00:00"
        ],
        [
         "10",
         "235",
         "0.0",
         "2025-03-03 15:00:00+00:00"
        ],
        [
         "11",
         "256",
         "7.0",
         "2025-03-03 15:00:00+00:00"
        ],
        [
         "12",
         "60",
         "0.0",
         "2025-03-03 15:00:00+00:00"
        ],
        [
         "13",
         "244",
         "3.0",
         "2025-03-03 15:00:00+00:00"
        ],
        [
         "14",
         "149",
         "0.0",
         "2025-03-03 15:00:00+00:00"
        ],
        [
         "15",
         "165",
         "0.0",
         "2025-03-03 15:00:00+00:00"
        ],
        [
         "16",
         "144",
         "65.0",
         "2025-03-03 15:00:00+00:00"
        ],
        [
         "17",
         "189",
         "0.0",
         "2025-03-03 15:00:00+00:00"
        ],
        [
         "18",
         "216",
         "1.0",
         "2025-03-03 15:00:00+00:00"
        ],
        [
         "19",
         "49",
         "1.0",
         "2025-03-03 15:00:00+00:00"
        ],
        [
         "20",
         "28",
         "0.0",
         "2025-03-03 15:00:00+00:00"
        ],
        [
         "21",
         "263",
         "99.0",
         "2025-03-03 15:00:00+00:00"
        ],
        [
         "22",
         "153",
         "0.0",
         "2025-03-03 15:00:00+00:00"
        ],
        [
         "23",
         "160",
         "0.0",
         "2025-03-03 15:00:00+00:00"
        ],
        [
         "24",
         "228",
         "0.0",
         "2025-03-03 15:00:00+00:00"
        ],
        [
         "25",
         "56",
         "0.0",
         "2025-03-03 15:00:00+00:00"
        ],
        [
         "26",
         "91",
         "1.0",
         "2025-03-03 15:00:00+00:00"
        ],
        [
         "27",
         "251",
         "0.0",
         "2025-03-03 15:00:00+00:00"
        ],
        [
         "28",
         "7",
         "3.0",
         "2025-03-03 15:00:00+00:00"
        ],
        [
         "29",
         "193",
         "2.0",
         "2025-03-03 15:00:00+00:00"
        ],
        [
         "30",
         "37",
         "1.0",
         "2025-03-03 15:00:00+00:00"
        ],
        [
         "31",
         "77",
         "0.0",
         "2025-03-03 15:00:00+00:00"
        ],
        [
         "32",
         "137",
         "32.0",
         "2025-03-03 15:00:00+00:00"
        ],
        [
         "33",
         "4",
         "6.0",
         "2025-03-03 15:00:00+00:00"
        ],
        [
         "34",
         "96",
         "0.0",
         "2025-03-03 15:00:00+00:00"
        ],
        [
         "35",
         "116",
         "3.0",
         "2025-03-03 15:00:00+00:00"
        ],
        [
         "36",
         "20",
         "0.0",
         "2025-03-03 15:00:00+00:00"
        ],
        [
         "37",
         "120",
         "0.0",
         "2025-03-03 15:00:00+00:00"
        ],
        [
         "38",
         "51",
         "0.0",
         "2025-03-03 15:00:00+00:00"
        ],
        [
         "39",
         "198",
         "0.0",
         "2025-03-03 15:00:00+00:00"
        ],
        [
         "40",
         "23",
         "0.0",
         "2025-03-03 15:00:00+00:00"
        ],
        [
         "41",
         "184",
         "0.0",
         "2025-03-03 15:00:00+00:00"
        ],
        [
         "42",
         "172",
         "0.0",
         "2025-03-03 15:00:00+00:00"
        ],
        [
         "43",
         "211",
         "17.0",
         "2025-03-03 15:00:00+00:00"
        ],
        [
         "44",
         "65",
         "2.0",
         "2025-03-03 15:00:00+00:00"
        ],
        [
         "45",
         "249",
         "126.0",
         "2025-03-03 15:00:00+00:00"
        ],
        [
         "46",
         "125",
         "26.0",
         "2025-03-03 15:00:00+00:00"
        ],
        [
         "47",
         "223",
         "1.0",
         "2025-03-03 15:00:00+00:00"
        ],
        [
         "48",
         "175",
         "0.0",
         "2025-03-03 15:00:00+00:00"
        ],
        [
         "49",
         "214",
         "0.0",
         "2025-03-03 15:00:00+00:00"
        ]
       ],
       "shape": {
        "columns": 3,
        "rows": 10809
       }
      },
      "text/html": [
       "<div>\n",
       "<style scoped>\n",
       "    .dataframe tbody tr th:only-of-type {\n",
       "        vertical-align: middle;\n",
       "    }\n",
       "\n",
       "    .dataframe tbody tr th {\n",
       "        vertical-align: top;\n",
       "    }\n",
       "\n",
       "    .dataframe thead th {\n",
       "        text-align: right;\n",
       "    }\n",
       "</style>\n",
       "<table border=\"1\" class=\"dataframe\">\n",
       "  <thead>\n",
       "    <tr style=\"text-align: right;\">\n",
       "      <th></th>\n",
       "      <th>pickup_location_id</th>\n",
       "      <th>predicted_demand</th>\n",
       "      <th>pickup_hour</th>\n",
       "    </tr>\n",
       "  </thead>\n",
       "  <tbody>\n",
       "    <tr>\n",
       "      <th>0</th>\n",
       "      <td>177</td>\n",
       "      <td>1.0</td>\n",
       "      <td>2025-03-03 15:00:00+00:00</td>\n",
       "    </tr>\n",
       "    <tr>\n",
       "      <th>1</th>\n",
       "      <td>72</td>\n",
       "      <td>2.0</td>\n",
       "      <td>2025-03-03 15:00:00+00:00</td>\n",
       "    </tr>\n",
       "    <tr>\n",
       "      <th>2</th>\n",
       "      <td>16</td>\n",
       "      <td>0.0</td>\n",
       "      <td>2025-03-03 15:00:00+00:00</td>\n",
       "    </tr>\n",
       "    <tr>\n",
       "      <th>3</th>\n",
       "      <td>209</td>\n",
       "      <td>4.0</td>\n",
       "      <td>2025-03-03 15:00:00+00:00</td>\n",
       "    </tr>\n",
       "    <tr>\n",
       "      <th>4</th>\n",
       "      <td>68</td>\n",
       "      <td>123.0</td>\n",
       "      <td>2025-03-03 15:00:00+00:00</td>\n",
       "    </tr>\n",
       "    <tr>\n",
       "      <th>...</th>\n",
       "      <td>...</td>\n",
       "      <td>...</td>\n",
       "      <td>...</td>\n",
       "    </tr>\n",
       "    <tr>\n",
       "      <th>10804</th>\n",
       "      <td>160</td>\n",
       "      <td>0.0</td>\n",
       "      <td>2025-03-06 04:00:00+00:00</td>\n",
       "    </tr>\n",
       "    <tr>\n",
       "      <th>10805</th>\n",
       "      <td>45</td>\n",
       "      <td>10.0</td>\n",
       "      <td>2025-03-06 04:00:00+00:00</td>\n",
       "    </tr>\n",
       "    <tr>\n",
       "      <th>10806</th>\n",
       "      <td>93</td>\n",
       "      <td>0.0</td>\n",
       "      <td>2025-03-06 04:00:00+00:00</td>\n",
       "    </tr>\n",
       "    <tr>\n",
       "      <th>10807</th>\n",
       "      <td>146</td>\n",
       "      <td>1.0</td>\n",
       "      <td>2025-03-06 04:00:00+00:00</td>\n",
       "    </tr>\n",
       "    <tr>\n",
       "      <th>10808</th>\n",
       "      <td>79</td>\n",
       "      <td>41.0</td>\n",
       "      <td>2025-03-06 04:00:00+00:00</td>\n",
       "    </tr>\n",
       "  </tbody>\n",
       "</table>\n",
       "<p>10809 rows × 3 columns</p>\n",
       "</div>"
      ],
      "text/plain": [
       "       pickup_location_id  predicted_demand               pickup_hour\n",
       "0                     177               1.0 2025-03-03 15:00:00+00:00\n",
       "1                      72               2.0 2025-03-03 15:00:00+00:00\n",
       "2                      16               0.0 2025-03-03 15:00:00+00:00\n",
       "3                     209               4.0 2025-03-03 15:00:00+00:00\n",
       "4                      68             123.0 2025-03-03 15:00:00+00:00\n",
       "...                   ...               ...                       ...\n",
       "10804                 160               0.0 2025-03-06 04:00:00+00:00\n",
       "10805                  45              10.0 2025-03-06 04:00:00+00:00\n",
       "10806                  93               0.0 2025-03-06 04:00:00+00:00\n",
       "10807                 146               1.0 2025-03-06 04:00:00+00:00\n",
       "10808                  79              41.0 2025-03-06 04:00:00+00:00\n",
       "\n",
       "[10809 rows x 3 columns]"
      ]
     },
     "execution_count": 23,
     "metadata": {},
     "output_type": "execute_result"
    }
   ],
   "source": [
    "df"
   ]
  },
  {
   "cell_type": "code",
   "execution_count": 24,
   "id": "90052c02-a072-423f-95d5-086c1ca786eb",
   "metadata": {},
   "outputs": [
    {
     "data": {
      "text/plain": [
       "Timestamp('2025-03-06 04:00:00+0000', tz='Etc/UTC')"
      ]
     },
     "execution_count": 24,
     "metadata": {},
     "output_type": "execute_result"
    }
   ],
   "source": [
    "df[\"pickup_hour\"].max()"
   ]
  },
  {
   "cell_type": "code",
   "execution_count": 25,
   "id": "30f5c3e8-156e-44a5-ac8a-ccb1479a6936",
   "metadata": {},
   "outputs": [
    {
     "name": "stdout",
     "output_type": "stream",
     "text": [
      "2025-04-25 00:00:00+00:00\n"
     ]
    }
   ],
   "source": [
    "now = datetime.now(timezone.utc)\n",
    "next_hour = (now + timedelta(hours=1)).replace(minute=0, second=0, microsecond=0)\n",
    "print(next_hour)"
   ]
  },
  {
   "cell_type": "code",
   "execution_count": 26,
   "id": "02ebe046-ae58-489e-99e7-a4f27755a10f",
   "metadata": {},
   "outputs": [
    {
     "data": {
      "application/vnd.microsoft.datawrangler.viewer.v0+json": {
       "columns": [
        {
         "name": "index",
         "rawType": "int64",
         "type": "integer"
        },
        {
         "name": "pickup_location_id",
         "rawType": "int32",
         "type": "integer"
        },
        {
         "name": "predicted_demand",
         "rawType": "float64",
         "type": "float"
        },
        {
         "name": "pickup_hour",
         "rawType": "datetime64[us, Etc/UTC]",
         "type": "unknown"
        }
       ],
       "conversionMethod": "pd.DataFrame",
       "ref": "64448708-fa1e-4b74-bd22-35592d9c1873",
       "rows": [],
       "shape": {
        "columns": 3,
        "rows": 0
       }
      },
      "text/html": [
       "<div>\n",
       "<style scoped>\n",
       "    .dataframe tbody tr th:only-of-type {\n",
       "        vertical-align: middle;\n",
       "    }\n",
       "\n",
       "    .dataframe tbody tr th {\n",
       "        vertical-align: top;\n",
       "    }\n",
       "\n",
       "    .dataframe thead th {\n",
       "        text-align: right;\n",
       "    }\n",
       "</style>\n",
       "<table border=\"1\" class=\"dataframe\">\n",
       "  <thead>\n",
       "    <tr style=\"text-align: right;\">\n",
       "      <th></th>\n",
       "      <th>pickup_location_id</th>\n",
       "      <th>predicted_demand</th>\n",
       "      <th>pickup_hour</th>\n",
       "    </tr>\n",
       "  </thead>\n",
       "  <tbody>\n",
       "  </tbody>\n",
       "</table>\n",
       "</div>"
      ],
      "text/plain": [
       "Empty DataFrame\n",
       "Columns: [pickup_location_id, predicted_demand, pickup_hour]\n",
       "Index: []"
      ]
     },
     "execution_count": 26,
     "metadata": {},
     "output_type": "execute_result"
    }
   ],
   "source": [
    "df[df[\"pickup_hour\"] == next_hour]"
   ]
  }
 ],
 "metadata": {
  "kernelspec": {
   "display_name": ".venv",
   "language": "python",
   "name": "python3"
  },
  "language_info": {
   "codemirror_mode": {
    "name": "ipython",
    "version": 3
   },
   "file_extension": ".py",
   "mimetype": "text/x-python",
   "name": "python",
   "nbconvert_exporter": "python",
   "pygments_lexer": "ipython3",
   "version": "3.11.9"
  }
 },
 "nbformat": 4,
 "nbformat_minor": 5
}
