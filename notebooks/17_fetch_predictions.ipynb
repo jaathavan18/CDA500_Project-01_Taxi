{
 "cells": [
  {
   "cell_type": "code",
   "execution_count": 73,
   "id": "1555e775-4045-409a-a2cd-b22934b5fe3b",
   "metadata": {},
   "outputs": [
    {
     "name": "stdout",
     "output_type": "stream",
     "text": [
      "The autoreload extension is already loaded. To reload it, use:\n",
      "  %reload_ext autoreload\n"
     ]
    }
   ],
   "source": [
    "%load_ext autoreload\n",
    "%autoreload 2"
   ]
  },
  {
   "cell_type": "code",
   "execution_count": 74,
   "id": "15e2d67e-a5c7-453c-84e8-a210c608e9f0",
   "metadata": {},
   "outputs": [],
   "source": [
    "import sys\n",
    "import os\n",
    "\n",
    "# Add the parent directory to the Python path\n",
    "sys.path.append(os.path.abspath(os.path.join(os.getcwd(), \"..\")))\n",
    "import src.config as config"
   ]
  },
  {
   "cell_type": "code",
   "execution_count": 75,
   "id": "05248d6f-2194-48dd-a582-77cbda1ad16c",
   "metadata": {},
   "outputs": [
    {
     "name": "stdout",
     "output_type": "stream",
     "text": [
      "Current UTC hour (ceiled): 2025-03-03 07:00:00+00:00\n"
     ]
    }
   ],
   "source": [
    "import src.config as config\n",
    "from src.inference import (\n",
    "    get_feature_store\n",
    ")\n",
    "\n",
    "from datetime import datetime, timezone, timedelta\n",
    "\n",
    "def get_current_utc_hour_ceiled():\n",
    "    \"\"\"Get current UTC time ceiled to the next hour\"\"\"\n",
    "    current = datetime.now(timezone.utc)\n",
    "    if current.minute > 0 or current.second > 0:\n",
    "        # Ceil to next hour\n",
    "        current = current + timedelta(hours=1)\n",
    "\n",
    "    # Reset minutes, seconds, and microseconds\n",
    "    current = current.replace(minute=0, second=0, microsecond=0)\n",
    "    return current\n",
    "\n",
    "# Usage\n",
    "current_hour = get_current_utc_hour_ceiled()\n",
    "print(f\"Current UTC hour (ceiled): {current_hour}\")"
   ]
  },
  {
   "cell_type": "code",
   "execution_count": 76,
   "id": "5c5559a0-89e2-458d-9bbc-b1ec103659f6",
   "metadata": {},
   "outputs": [],
   "source": [
    "def fetch_predictions():\n",
    "    current_date = pd.Timestamp.now(tz='Etc/UTC').ceil('h')\n",
    "\n",
    "    fs = get_feature_store()\n",
    "    fg = fs.get_feature_group(\n",
    "        name=config.FEATURE_GROUP_MODEL_PREDICTION,\n",
    "        version=1\n",
    "    )\n",
    "\n",
    "    query = fg.select_all()\n",
    "    query = query.filter(fg.pickup_hour == current_hour)\n",
    "\n",
    "    return query.read()"
   ]
  },
  {
   "cell_type": "code",
   "execution_count": 77,
   "id": "53a3af64-b773-43a6-bb10-c9e209cc6cb0",
   "metadata": {},
   "outputs": [
    {
     "name": "stdout",
     "output_type": "stream",
     "text": [
      "2025-03-03 01:15:10,184 INFO: Closing external client and cleaning up certificates.\n",
      "Connection closed.\n",
      "2025-03-03 01:15:10,190 INFO: Initializing external client\n",
      "2025-03-03 01:15:10,190 INFO: Base URL: https://c.app.hopsworks.ai:443\n",
      "2025-03-03 01:15:10,820 INFO: Python Engine initialized.\n",
      "\n",
      "Logged in to project, explore it here https://c.app.hopsworks.ai:443/p/1215649\n"
     ]
    }
   ],
   "source": [
    "fs = get_feature_store()\n",
    "fg = fs.get_feature_group(\n",
    "    name=config.FEATURE_GROUP_MODEL_PREDICTION,\n",
    "    version=1\n",
    ")\n",
    "\n",
    "query = fg.select_all()"
   ]
  },
  {
   "cell_type": "code",
   "execution_count": 78,
   "id": "c6321059-d894-4f75-94c8-b4ea29bf8ea5",
   "metadata": {},
   "outputs": [
    {
     "name": "stdout",
     "output_type": "stream",
     "text": [
      "Finished: Reading data from Hopsworks, using Hopsworks Feature Query Service (0.63s) \n"
     ]
    }
   ],
   "source": [
    "df= query.read()"
   ]
  },
  {
   "cell_type": "code",
   "execution_count": null,
   "id": "367f3978-9a5d-4d97-b19a-88afcfb1d14f",
   "metadata": {},
   "outputs": [],
   "source": []
  },
  {
   "cell_type": "code",
   "execution_count": 79,
   "id": "8d03786a-90dc-425a-8e4e-3b4dca4a08fa",
   "metadata": {},
   "outputs": [
    {
     "data": {
      "application/vnd.microsoft.datawrangler.viewer.v0+json": {
       "columns": [
        {
         "name": "index",
         "rawType": "int64",
         "type": "integer"
        },
        {
         "name": "pickup_location_id",
         "rawType": "int32",
         "type": "integer"
        },
        {
         "name": "predicted_demand",
         "rawType": "float64",
         "type": "float"
        },
        {
         "name": "pickup_hour",
         "rawType": "datetime64[us, Etc/UTC]",
         "type": "unknown"
        }
       ],
       "conversionMethod": "pd.DataFrame",
       "ref": "8c9a2a18-d86f-4145-b0ca-f9112cbe84ee",
       "rows": [
        [
         "0",
         "95",
         "1.0",
         "2025-03-03 03:00:00+00:00"
        ],
        [
         "1",
         "179",
         "1.0",
         "2025-03-03 03:00:00+00:00"
        ],
        [
         "2",
         "127",
         "0.0",
         "2025-03-03 03:00:00+00:00"
        ],
        [
         "3",
         "90",
         "71.0",
         "2025-03-03 03:00:00+00:00"
        ],
        [
         "4",
         "79",
         "98.0",
         "2025-03-03 03:00:00+00:00"
        ],
        [
         "5",
         "55",
         "0.0",
         "2025-03-03 03:00:00+00:00"
        ],
        [
         "6",
         "83",
         "0.0",
         "2025-03-03 03:00:00+00:00"
        ],
        [
         "7",
         "22",
         "0.0",
         "2025-03-03 03:00:00+00:00"
        ],
        [
         "8",
         "50",
         "21.0",
         "2025-03-03 03:00:00+00:00"
        ],
        [
         "9",
         "41",
         "2.0",
         "2025-03-03 03:00:00+00:00"
        ],
        [
         "10",
         "131",
         "0.0",
         "2025-03-03 03:00:00+00:00"
        ],
        [
         "11",
         "227",
         "0.0",
         "2025-03-03 03:00:00+00:00"
        ],
        [
         "12",
         "188",
         "1.0",
         "2025-03-03 03:00:00+00:00"
        ],
        [
         "13",
         "167",
         "0.0",
         "2025-03-03 03:00:00+00:00"
        ],
        [
         "14",
         "171",
         "0.0",
         "2025-03-03 03:00:00+00:00"
        ],
        [
         "15",
         "262",
         "89.0",
         "2025-03-03 03:00:00+00:00"
        ],
        [
         "16",
         "213",
         "1.0",
         "2025-03-03 03:00:00+00:00"
        ],
        [
         "17",
         "86",
         "1.0",
         "2025-03-03 03:00:00+00:00"
        ],
        [
         "18",
         "239",
         "105.0",
         "2025-03-03 03:00:00+00:00"
        ],
        [
         "19",
         "195",
         "0.0",
         "2025-03-03 03:00:00+00:00"
        ],
        [
         "20",
         "67",
         "0.0",
         "2025-03-03 03:00:00+00:00"
        ],
        [
         "21",
         "206",
         "0.0",
         "2025-03-03 03:00:00+00:00"
        ],
        [
         "22",
         "222",
         "0.0",
         "2025-03-03 03:00:00+00:00"
        ],
        [
         "23",
         "250",
         "1.0",
         "2025-03-03 03:00:00+00:00"
        ],
        [
         "24",
         "108",
         "0.0",
         "2025-03-03 03:00:00+00:00"
        ],
        [
         "25",
         "183",
         "0.0",
         "2025-03-03 03:00:00+00:00"
        ],
        [
         "26",
         "62",
         "1.0",
         "2025-03-03 03:00:00+00:00"
        ],
        [
         "27",
         "162",
         "210.0",
         "2025-03-03 03:00:00+00:00"
        ],
        [
         "28",
         "246",
         "22.0",
         "2025-03-03 03:00:00+00:00"
        ],
        [
         "29",
         "122",
         "0.0",
         "2025-03-03 03:00:00+00:00"
        ],
        [
         "30",
         "148",
         "78.0",
         "2025-03-03 03:00:00+00:00"
        ],
        [
         "31",
         "10",
         "1.0",
         "2025-03-03 03:00:00+00:00"
        ],
        [
         "32",
         "143",
         "28.0",
         "2025-03-03 03:00:00+00:00"
        ],
        [
         "33",
         "74",
         "10.0",
         "2025-03-03 03:00:00+00:00"
        ],
        [
         "34",
         "39",
         "1.0",
         "2025-03-03 03:00:00+00:00"
        ],
        [
         "35",
         "46",
         "0.0",
         "2025-03-03 03:00:00+00:00"
        ],
        [
         "36",
         "190",
         "0.0",
         "2025-03-03 03:00:00+00:00"
        ],
        [
         "37",
         "139",
         "0.0",
         "2025-03-03 03:00:00+00:00"
        ],
        [
         "38",
         "234",
         "179.0",
         "2025-03-03 03:00:00+00:00"
        ],
        [
         "39",
         "253",
         "0.0",
         "2025-03-03 03:00:00+00:00"
        ],
        [
         "40",
         "218",
         "0.0",
         "2025-03-03 03:00:00+00:00"
        ],
        [
         "41",
         "15",
         "0.0",
         "2025-03-03 03:00:00+00:00"
        ],
        [
         "42",
         "115",
         "0.0",
         "2025-03-03 03:00:00+00:00"
        ],
        [
         "43",
         "258",
         "0.0",
         "2025-03-03 03:00:00+00:00"
        ],
        [
         "44",
         "155",
         "0.0",
         "2025-03-03 03:00:00+00:00"
        ],
        [
         "45",
         "6",
         "0.0",
         "2025-03-03 03:00:00+00:00"
        ],
        [
         "46",
         "27",
         "0.0",
         "2025-03-03 03:00:00+00:00"
        ],
        [
         "47",
         "201",
         "0.0",
         "2025-03-03 03:00:00+00:00"
        ],
        [
         "48",
         "134",
         "0.0",
         "2025-03-03 03:00:00+00:00"
        ],
        [
         "49",
         "241",
         "0.0",
         "2025-03-03 03:00:00+00:00"
        ]
       ],
       "shape": {
        "columns": 3,
        "rows": 753
       }
      },
      "text/html": [
       "<div>\n",
       "<style scoped>\n",
       "    .dataframe tbody tr th:only-of-type {\n",
       "        vertical-align: middle;\n",
       "    }\n",
       "\n",
       "    .dataframe tbody tr th {\n",
       "        vertical-align: top;\n",
       "    }\n",
       "\n",
       "    .dataframe thead th {\n",
       "        text-align: right;\n",
       "    }\n",
       "</style>\n",
       "<table border=\"1\" class=\"dataframe\">\n",
       "  <thead>\n",
       "    <tr style=\"text-align: right;\">\n",
       "      <th></th>\n",
       "      <th>pickup_location_id</th>\n",
       "      <th>predicted_demand</th>\n",
       "      <th>pickup_hour</th>\n",
       "    </tr>\n",
       "  </thead>\n",
       "  <tbody>\n",
       "    <tr>\n",
       "      <th>0</th>\n",
       "      <td>95</td>\n",
       "      <td>1.0</td>\n",
       "      <td>2025-03-03 03:00:00+00:00</td>\n",
       "    </tr>\n",
       "    <tr>\n",
       "      <th>1</th>\n",
       "      <td>179</td>\n",
       "      <td>1.0</td>\n",
       "      <td>2025-03-03 03:00:00+00:00</td>\n",
       "    </tr>\n",
       "    <tr>\n",
       "      <th>2</th>\n",
       "      <td>127</td>\n",
       "      <td>0.0</td>\n",
       "      <td>2025-03-03 03:00:00+00:00</td>\n",
       "    </tr>\n",
       "    <tr>\n",
       "      <th>3</th>\n",
       "      <td>90</td>\n",
       "      <td>71.0</td>\n",
       "      <td>2025-03-03 03:00:00+00:00</td>\n",
       "    </tr>\n",
       "    <tr>\n",
       "      <th>4</th>\n",
       "      <td>79</td>\n",
       "      <td>98.0</td>\n",
       "      <td>2025-03-03 03:00:00+00:00</td>\n",
       "    </tr>\n",
       "    <tr>\n",
       "      <th>...</th>\n",
       "      <td>...</td>\n",
       "      <td>...</td>\n",
       "      <td>...</td>\n",
       "    </tr>\n",
       "    <tr>\n",
       "      <th>748</th>\n",
       "      <td>93</td>\n",
       "      <td>1.0</td>\n",
       "      <td>2025-03-03 07:00:00+00:00</td>\n",
       "    </tr>\n",
       "    <tr>\n",
       "      <th>749</th>\n",
       "      <td>194</td>\n",
       "      <td>0.0</td>\n",
       "      <td>2025-03-03 07:00:00+00:00</td>\n",
       "    </tr>\n",
       "    <tr>\n",
       "      <th>750</th>\n",
       "      <td>36</td>\n",
       "      <td>0.0</td>\n",
       "      <td>2025-03-03 07:00:00+00:00</td>\n",
       "    </tr>\n",
       "    <tr>\n",
       "      <th>751</th>\n",
       "      <td>210</td>\n",
       "      <td>0.0</td>\n",
       "      <td>2025-03-03 07:00:00+00:00</td>\n",
       "    </tr>\n",
       "    <tr>\n",
       "      <th>752</th>\n",
       "      <td>244</td>\n",
       "      <td>4.0</td>\n",
       "      <td>2025-03-03 07:00:00+00:00</td>\n",
       "    </tr>\n",
       "  </tbody>\n",
       "</table>\n",
       "<p>753 rows × 3 columns</p>\n",
       "</div>"
      ],
      "text/plain": [
       "     pickup_location_id  predicted_demand               pickup_hour\n",
       "0                    95               1.0 2025-03-03 03:00:00+00:00\n",
       "1                   179               1.0 2025-03-03 03:00:00+00:00\n",
       "2                   127               0.0 2025-03-03 03:00:00+00:00\n",
       "3                    90              71.0 2025-03-03 03:00:00+00:00\n",
       "4                    79              98.0 2025-03-03 03:00:00+00:00\n",
       "..                  ...               ...                       ...\n",
       "748                  93               1.0 2025-03-03 07:00:00+00:00\n",
       "749                 194               0.0 2025-03-03 07:00:00+00:00\n",
       "750                  36               0.0 2025-03-03 07:00:00+00:00\n",
       "751                 210               0.0 2025-03-03 07:00:00+00:00\n",
       "752                 244               4.0 2025-03-03 07:00:00+00:00\n",
       "\n",
       "[753 rows x 3 columns]"
      ]
     },
     "execution_count": 79,
     "metadata": {},
     "output_type": "execute_result"
    }
   ],
   "source": [
    "df"
   ]
  },
  {
   "cell_type": "code",
   "execution_count": 80,
   "id": "90415d0c-053a-4fba-94dd-eb6d231875bd",
   "metadata": {},
   "outputs": [],
   "source": [
    "#a.info()"
   ]
  },
  {
   "cell_type": "code",
   "execution_count": 81,
   "id": "39ea132b-5a59-44cb-b155-fa765164e3cc",
   "metadata": {},
   "outputs": [
    {
     "name": "stdout",
     "output_type": "stream",
     "text": [
      "2025-03-03 01:15:16,918 INFO: Closing external client and cleaning up certificates.\n",
      "Connection closed.\n",
      "2025-03-03 01:15:16,928 INFO: Initializing external client\n",
      "2025-03-03 01:15:16,928 INFO: Base URL: https://c.app.hopsworks.ai:443\n",
      "2025-03-03 01:15:17,525 INFO: Python Engine initialized.\n",
      "\n",
      "Logged in to project, explore it here https://c.app.hopsworks.ai:443/p/1215649\n",
      "Current UTC time: 2025-03-03 06:15:16.918374+00:00\n",
      "Next hour: 2025-03-03 06:00:00+00:00\n",
      "Querying for date range: 2025-03-03 to 2025-03-04\n",
      "Filtering for hour: 2025-03-03 06:00\n",
      "Found 251 records\n"
     ]
    }
   ],
   "source": [
    "from datetime import datetime, timezone, timedelta\n",
    "\n",
    "def fetch_next_hour_predictions():\n",
    "    # Get current UTC time and round up to next hour\n",
    "    now = datetime.now(timezone.utc)\n",
    "    next_hour = (now + timedelta(hours=0)).replace(minute=0, second=0, microsecond=0)\n",
    "\n",
    "    # Extract components from the rounded-up time\n",
    "    year = next_hour.year\n",
    "    month = next_hour.month\n",
    "    day = next_hour.day\n",
    "    hour = next_hour.hour\n",
    "\n",
    "    # Create date strings in YYYY-MM-DD format\n",
    "    current_date = f\"{year}-{month:02d}-{day:02d}\"\n",
    "    next_date = next_hour + timedelta(days=1)\n",
    "    next_date_str = next_date.strftime(\"%Y-%m-%d\")\n",
    "\n",
    "    fs = get_feature_store()\n",
    "    fg = fs.get_feature_group(\n",
    "        name=config.FEATURE_GROUP_MODEL_PREDICTION,\n",
    "        version=1\n",
    "    )\n",
    "\n",
    "    # # First get the full day's data from Hopsworks\n",
    "    # df = fg.filter(\n",
    "    #     (fg.pickup_hour >= current_date) &\n",
    "    #     (fg.pickup_hour < next_date_str)\n",
    "    # ).read()\n",
    "\n",
    "    # Then filter for next hour in the DataFrame\n",
    "    hour_str = f\"{current_date} {hour:02d}:00\"\n",
    "    df_hour = df[df['pickup_hour'] == hour_str]\n",
    "\n",
    "    print(f\"Current UTC time: {now}\")\n",
    "    print(f\"Next hour: {next_hour}\")\n",
    "    print(f\"Querying for date range: {current_date} to {next_date_str}\")\n",
    "    print(f\"Filtering for hour: {hour_str}\")\n",
    "    print(f\"Found {len(df_hour)} records\")\n",
    "    return df_hour\n",
    "\n",
    "# Example usage:\n",
    "predictions = fetch_next_hour_predictions()"
   ]
  },
  {
   "cell_type": "code",
   "execution_count": 82,
   "id": "4c512f98-d569-4a9f-8391-d301b1226c91",
   "metadata": {},
   "outputs": [],
   "source": [
    "now = datetime.now(timezone.utc)"
   ]
  },
  {
   "cell_type": "code",
   "execution_count": 83,
   "id": "0e5671d3-701d-4fca-bb91-a697f622239a",
   "metadata": {},
   "outputs": [
    {
     "data": {
      "application/vnd.microsoft.datawrangler.viewer.v0+json": {
       "columns": [
        {
         "name": "index",
         "rawType": "int64",
         "type": "integer"
        },
        {
         "name": "pickup_location_id",
         "rawType": "int32",
         "type": "integer"
        },
        {
         "name": "predicted_demand",
         "rawType": "float64",
         "type": "float"
        },
        {
         "name": "pickup_hour",
         "rawType": "datetime64[us, Etc/UTC]",
         "type": "unknown"
        }
       ],
       "conversionMethod": "pd.DataFrame",
       "ref": "8ea662c1-b0ad-4be3-b949-f2f89435d7f9",
       "rows": [
        [
         "251",
         "179",
         "0.0",
         "2025-03-03 06:00:00+00:00"
        ],
        [
         "252",
         "10",
         "1.0",
         "2025-03-03 06:00:00+00:00"
        ],
        [
         "253",
         "11",
         "0.0",
         "2025-03-03 06:00:00+00:00"
        ],
        [
         "254",
         "40",
         "1.0",
         "2025-03-03 06:00:00+00:00"
        ],
        [
         "255",
         "12",
         "1.0",
         "2025-03-03 06:00:00+00:00"
        ],
        [
         "256",
         "219",
         "0.0",
         "2025-03-03 06:00:00+00:00"
        ],
        [
         "257",
         "41",
         "3.0",
         "2025-03-03 06:00:00+00:00"
        ],
        [
         "258",
         "100",
         "70.0",
         "2025-03-03 06:00:00+00:00"
        ],
        [
         "259",
         "200",
         "0.0",
         "2025-03-03 06:00:00+00:00"
        ],
        [
         "260",
         "101",
         "0.0",
         "2025-03-03 06:00:00+00:00"
        ],
        [
         "261",
         "43",
         "131.0",
         "2025-03-03 06:00:00+00:00"
        ],
        [
         "262",
         "177",
         "0.0",
         "2025-03-03 06:00:00+00:00"
        ],
        [
         "263",
         "42",
         "4.0",
         "2025-03-03 06:00:00+00:00"
        ],
        [
         "264",
         "102",
         "0.0",
         "2025-03-03 06:00:00+00:00"
        ],
        [
         "265",
         "201",
         "0.0",
         "2025-03-03 06:00:00+00:00"
        ],
        [
         "266",
         "178",
         "0.0",
         "2025-03-03 06:00:00+00:00"
        ],
        [
         "267",
         "202",
         "0.0",
         "2025-03-03 06:00:00+00:00"
        ],
        [
         "268",
         "16",
         "0.0",
         "2025-03-03 06:00:00+00:00"
        ],
        [
         "269",
         "57",
         "0.0",
         "2025-03-03 06:00:00+00:00"
        ],
        [
         "270",
         "85",
         "1.0",
         "2025-03-03 06:00:00+00:00"
        ],
        [
         "271",
         "117",
         "0.0",
         "2025-03-03 06:00:00+00:00"
        ],
        [
         "272",
         "231",
         "17.0",
         "2025-03-03 06:00:00+00:00"
        ],
        [
         "273",
         "131",
         "1.0",
         "2025-03-03 06:00:00+00:00"
        ],
        [
         "274",
         "145",
         "2.0",
         "2025-03-03 06:00:00+00:00"
        ],
        [
         "275",
         "133",
         "0.0",
         "2025-03-03 06:00:00+00:00"
        ],
        [
         "276",
         "59",
         "0.0",
         "2025-03-03 06:00:00+00:00"
        ],
        [
         "277",
         "245",
         "0.0",
         "2025-03-03 06:00:00+00:00"
        ],
        [
         "278",
         "8",
         "0.0",
         "2025-03-03 06:00:00+00:00"
        ],
        [
         "279",
         "73",
         "0.0",
         "2025-03-03 06:00:00+00:00"
        ],
        [
         "280",
         "18",
         "0.0",
         "2025-03-03 06:00:00+00:00"
        ],
        [
         "281",
         "174",
         "0.0",
         "2025-03-03 06:00:00+00:00"
        ],
        [
         "282",
         "161",
         "293.0",
         "2025-03-03 06:00:00+00:00"
        ],
        [
         "283",
         "87",
         "31.0",
         "2025-03-03 06:00:00+00:00"
        ],
        [
         "284",
         "46",
         "0.0",
         "2025-03-03 06:00:00+00:00"
        ],
        [
         "285",
         "147",
         "0.0",
         "2025-03-03 06:00:00+00:00"
        ],
        [
         "286",
         "106",
         "0.0",
         "2025-03-03 06:00:00+00:00"
        ],
        [
         "287",
         "119",
         "1.0",
         "2025-03-03 06:00:00+00:00"
        ],
        [
         "288",
         "247",
         "0.0",
         "2025-03-03 06:00:00+00:00"
        ],
        [
         "289",
         "163",
         "181.0",
         "2025-03-03 06:00:00+00:00"
        ],
        [
         "290",
         "170",
         "71.0",
         "2025-03-03 06:00:00+00:00"
        ],
        [
         "291",
         "261",
         "9.0",
         "2025-03-03 06:00:00+00:00"
        ],
        [
         "292",
         "55",
         "1.0",
         "2025-03-03 06:00:00+00:00"
        ],
        [
         "293",
         "213",
         "0.0",
         "2025-03-03 06:00:00+00:00"
        ],
        [
         "294",
         "217",
         "0.0",
         "2025-03-03 06:00:00+00:00"
        ],
        [
         "295",
         "89",
         "0.0",
         "2025-03-03 06:00:00+00:00"
        ],
        [
         "296",
         "149",
         "0.0",
         "2025-03-03 06:00:00+00:00"
        ],
        [
         "297",
         "71",
         "1.0",
         "2025-03-03 06:00:00+00:00"
        ],
        [
         "298",
         "115",
         "0.0",
         "2025-03-03 06:00:00+00:00"
        ],
        [
         "299",
         "48",
         "25.0",
         "2025-03-03 06:00:00+00:00"
        ],
        [
         "300",
         "172",
         "0.0",
         "2025-03-03 06:00:00+00:00"
        ]
       ],
       "shape": {
        "columns": 3,
        "rows": 251
       }
      },
      "text/html": [
       "<div>\n",
       "<style scoped>\n",
       "    .dataframe tbody tr th:only-of-type {\n",
       "        vertical-align: middle;\n",
       "    }\n",
       "\n",
       "    .dataframe tbody tr th {\n",
       "        vertical-align: top;\n",
       "    }\n",
       "\n",
       "    .dataframe thead th {\n",
       "        text-align: right;\n",
       "    }\n",
       "</style>\n",
       "<table border=\"1\" class=\"dataframe\">\n",
       "  <thead>\n",
       "    <tr style=\"text-align: right;\">\n",
       "      <th></th>\n",
       "      <th>pickup_location_id</th>\n",
       "      <th>predicted_demand</th>\n",
       "      <th>pickup_hour</th>\n",
       "    </tr>\n",
       "  </thead>\n",
       "  <tbody>\n",
       "    <tr>\n",
       "      <th>251</th>\n",
       "      <td>179</td>\n",
       "      <td>0.0</td>\n",
       "      <td>2025-03-03 06:00:00+00:00</td>\n",
       "    </tr>\n",
       "    <tr>\n",
       "      <th>252</th>\n",
       "      <td>10</td>\n",
       "      <td>1.0</td>\n",
       "      <td>2025-03-03 06:00:00+00:00</td>\n",
       "    </tr>\n",
       "    <tr>\n",
       "      <th>253</th>\n",
       "      <td>11</td>\n",
       "      <td>0.0</td>\n",
       "      <td>2025-03-03 06:00:00+00:00</td>\n",
       "    </tr>\n",
       "    <tr>\n",
       "      <th>254</th>\n",
       "      <td>40</td>\n",
       "      <td>1.0</td>\n",
       "      <td>2025-03-03 06:00:00+00:00</td>\n",
       "    </tr>\n",
       "    <tr>\n",
       "      <th>255</th>\n",
       "      <td>12</td>\n",
       "      <td>1.0</td>\n",
       "      <td>2025-03-03 06:00:00+00:00</td>\n",
       "    </tr>\n",
       "    <tr>\n",
       "      <th>...</th>\n",
       "      <td>...</td>\n",
       "      <td>...</td>\n",
       "      <td>...</td>\n",
       "    </tr>\n",
       "    <tr>\n",
       "      <th>497</th>\n",
       "      <td>97</td>\n",
       "      <td>2.0</td>\n",
       "      <td>2025-03-03 06:00:00+00:00</td>\n",
       "    </tr>\n",
       "    <tr>\n",
       "      <th>498</th>\n",
       "      <td>116</td>\n",
       "      <td>5.0</td>\n",
       "      <td>2025-03-03 06:00:00+00:00</td>\n",
       "    </tr>\n",
       "    <tr>\n",
       "      <th>499</th>\n",
       "      <td>15</td>\n",
       "      <td>0.0</td>\n",
       "      <td>2025-03-03 06:00:00+00:00</td>\n",
       "    </tr>\n",
       "    <tr>\n",
       "      <th>500</th>\n",
       "      <td>164</td>\n",
       "      <td>114.0</td>\n",
       "      <td>2025-03-03 06:00:00+00:00</td>\n",
       "    </tr>\n",
       "    <tr>\n",
       "      <th>501</th>\n",
       "      <td>63</td>\n",
       "      <td>0.0</td>\n",
       "      <td>2025-03-03 06:00:00+00:00</td>\n",
       "    </tr>\n",
       "  </tbody>\n",
       "</table>\n",
       "<p>251 rows × 3 columns</p>\n",
       "</div>"
      ],
      "text/plain": [
       "     pickup_location_id  predicted_demand               pickup_hour\n",
       "251                 179               0.0 2025-03-03 06:00:00+00:00\n",
       "252                  10               1.0 2025-03-03 06:00:00+00:00\n",
       "253                  11               0.0 2025-03-03 06:00:00+00:00\n",
       "254                  40               1.0 2025-03-03 06:00:00+00:00\n",
       "255                  12               1.0 2025-03-03 06:00:00+00:00\n",
       "..                  ...               ...                       ...\n",
       "497                  97               2.0 2025-03-03 06:00:00+00:00\n",
       "498                 116               5.0 2025-03-03 06:00:00+00:00\n",
       "499                  15               0.0 2025-03-03 06:00:00+00:00\n",
       "500                 164             114.0 2025-03-03 06:00:00+00:00\n",
       "501                  63               0.0 2025-03-03 06:00:00+00:00\n",
       "\n",
       "[251 rows x 3 columns]"
      ]
     },
     "execution_count": 83,
     "metadata": {},
     "output_type": "execute_result"
    }
   ],
   "source": [
    "predictions"
   ]
  },
  {
   "cell_type": "code",
   "execution_count": 84,
   "id": "48c2c460-25c6-4c26-84e8-ae82a1fdcf33",
   "metadata": {},
   "outputs": [
    {
     "name": "stdout",
     "output_type": "stream",
     "text": [
      "<class 'pandas.core.frame.DataFrame'>\n",
      "RangeIndex: 753 entries, 0 to 752\n",
      "Data columns (total 3 columns):\n",
      " #   Column              Non-Null Count  Dtype                  \n",
      "---  ------              --------------  -----                  \n",
      " 0   pickup_location_id  753 non-null    int32                  \n",
      " 1   predicted_demand    753 non-null    float64                \n",
      " 2   pickup_hour         753 non-null    datetime64[us, Etc/UTC]\n",
      "dtypes: datetime64[us, Etc/UTC](1), float64(1), int32(1)\n",
      "memory usage: 14.8 KB\n"
     ]
    }
   ],
   "source": [
    "df.info()"
   ]
  },
  {
   "cell_type": "code",
   "execution_count": 85,
   "id": "5930b159-b4e4-4b51-acd9-0b7b167b6236",
   "metadata": {},
   "outputs": [],
   "source": [
    "import pandas as pd\n",
    "current_date = pd.Timestamp.now(tz='Etc/UTC').ceil('h')"
   ]
  },
  {
   "cell_type": "code",
   "execution_count": 86,
   "id": "14cb7cca-beba-4017-9fa0-5ad7b6acfe90",
   "metadata": {},
   "outputs": [],
   "source": [
    "dt = current_date.ceil('h')\n"
   ]
  },
  {
   "cell_type": "code",
   "execution_count": 87,
   "id": "455e4d11-8a5a-434c-b634-bbf9edd02bd7",
   "metadata": {},
   "outputs": [
    {
     "name": "stdout",
     "output_type": "stream",
     "text": [
      "2025-03-03 01:15:18,754 INFO: Closing external client and cleaning up certificates.\n",
      "Connection closed.\n",
      "2025-03-03 01:15:18,761 INFO: Initializing external client\n",
      "2025-03-03 01:15:18,762 INFO: Base URL: https://c.app.hopsworks.ai:443\n",
      "2025-03-03 01:15:19,329 INFO: Python Engine initialized.\n",
      "\n",
      "Logged in to project, explore it here https://c.app.hopsworks.ai:443/p/1215649\n",
      "Finished: Reading data from Hopsworks, using Hopsworks Feature Query Service (7.64s) \n"
     ]
    }
   ],
   "source": [
    "fs = get_feature_store()  \n",
    "fg = fs.get_feature_group(  \n",
    "    name=config.FEATURE_GROUP_MODEL_PREDICTION,  \n",
    "    version=1  \n",
    ")  \n",
    "query = fg.select_all() \n",
    "# query = query.filter(fg.pickup_hour >= \"2025-02-13 04:00\")\n",
    "query = query.filter(fg.pickup_hour > \"2025-02-13 05:00:00\")  \n",
    "results = query.read()"
   ]
  },
  {
   "cell_type": "code",
   "execution_count": 88,
   "id": "fab34fc8-2594-4dfd-8046-fa7ede562979",
   "metadata": {},
   "outputs": [
    {
     "name": "stdout",
     "output_type": "stream",
     "text": [
      "Finished: Reading data from Hopsworks, using Hopsworks Feature Query Service (1.23s) \n"
     ]
    },
    {
     "data": {
      "application/vnd.microsoft.datawrangler.viewer.v0+json": {
       "columns": [
        {
         "name": "index",
         "rawType": "int64",
         "type": "integer"
        },
        {
         "name": "pickup_location_id",
         "rawType": "int32",
         "type": "integer"
        },
        {
         "name": "predicted_demand",
         "rawType": "float64",
         "type": "float"
        },
        {
         "name": "pickup_hour",
         "rawType": "datetime64[us, Etc/UTC]",
         "type": "unknown"
        }
       ],
       "conversionMethod": "pd.DataFrame",
       "ref": "55e54049-0976-4cd1-ab93-ccc167b5602b",
       "rows": [],
       "shape": {
        "columns": 3,
        "rows": 0
       }
      },
      "text/html": [
       "<div>\n",
       "<style scoped>\n",
       "    .dataframe tbody tr th:only-of-type {\n",
       "        vertical-align: middle;\n",
       "    }\n",
       "\n",
       "    .dataframe tbody tr th {\n",
       "        vertical-align: top;\n",
       "    }\n",
       "\n",
       "    .dataframe thead th {\n",
       "        text-align: right;\n",
       "    }\n",
       "</style>\n",
       "<table border=\"1\" class=\"dataframe\">\n",
       "  <thead>\n",
       "    <tr style=\"text-align: right;\">\n",
       "      <th></th>\n",
       "      <th>pickup_location_id</th>\n",
       "      <th>predicted_demand</th>\n",
       "      <th>pickup_hour</th>\n",
       "    </tr>\n",
       "  </thead>\n",
       "  <tbody>\n",
       "  </tbody>\n",
       "</table>\n",
       "</div>"
      ],
      "text/plain": [
       "Empty DataFrame\n",
       "Columns: [pickup_location_id, predicted_demand, pickup_hour]\n",
       "Index: []"
      ]
     },
     "execution_count": 88,
     "metadata": {},
     "output_type": "execute_result"
    }
   ],
   "source": [
    "fg.filter((fg.pickup_hour >= \"2025-02-13\") & (fg.pickup_hour < \"2025-02-14\")).read()"
   ]
  },
  {
   "cell_type": "code",
   "execution_count": 89,
   "id": "bb732f4b-65ee-4956-87b5-c9a9c2f367b3",
   "metadata": {},
   "outputs": [
    {
     "data": {
      "application/vnd.microsoft.datawrangler.viewer.v0+json": {
       "columns": [
        {
         "name": "index",
         "rawType": "int64",
         "type": "integer"
        },
        {
         "name": "pickup_location_id",
         "rawType": "int32",
         "type": "integer"
        },
        {
         "name": "predicted_demand",
         "rawType": "float64",
         "type": "float"
        },
        {
         "name": "pickup_hour",
         "rawType": "datetime64[us, Etc/UTC]",
         "type": "unknown"
        }
       ],
       "conversionMethod": "pd.DataFrame",
       "ref": "1586f597-72f3-474b-82d4-1373e9528c24",
       "rows": [
        [
         "0",
         "95",
         "1.0",
         "2025-03-03 03:00:00+00:00"
        ],
        [
         "1",
         "179",
         "1.0",
         "2025-03-03 03:00:00+00:00"
        ],
        [
         "2",
         "127",
         "0.0",
         "2025-03-03 03:00:00+00:00"
        ],
        [
         "3",
         "90",
         "71.0",
         "2025-03-03 03:00:00+00:00"
        ],
        [
         "4",
         "79",
         "98.0",
         "2025-03-03 03:00:00+00:00"
        ],
        [
         "5",
         "55",
         "0.0",
         "2025-03-03 03:00:00+00:00"
        ],
        [
         "6",
         "83",
         "0.0",
         "2025-03-03 03:00:00+00:00"
        ],
        [
         "7",
         "22",
         "0.0",
         "2025-03-03 03:00:00+00:00"
        ],
        [
         "8",
         "50",
         "21.0",
         "2025-03-03 03:00:00+00:00"
        ],
        [
         "9",
         "41",
         "2.0",
         "2025-03-03 03:00:00+00:00"
        ],
        [
         "10",
         "131",
         "0.0",
         "2025-03-03 03:00:00+00:00"
        ],
        [
         "11",
         "227",
         "0.0",
         "2025-03-03 03:00:00+00:00"
        ],
        [
         "12",
         "188",
         "1.0",
         "2025-03-03 03:00:00+00:00"
        ],
        [
         "13",
         "167",
         "0.0",
         "2025-03-03 03:00:00+00:00"
        ],
        [
         "14",
         "171",
         "0.0",
         "2025-03-03 03:00:00+00:00"
        ],
        [
         "15",
         "262",
         "89.0",
         "2025-03-03 03:00:00+00:00"
        ],
        [
         "16",
         "213",
         "1.0",
         "2025-03-03 03:00:00+00:00"
        ],
        [
         "17",
         "86",
         "1.0",
         "2025-03-03 03:00:00+00:00"
        ],
        [
         "18",
         "239",
         "105.0",
         "2025-03-03 03:00:00+00:00"
        ],
        [
         "19",
         "195",
         "0.0",
         "2025-03-03 03:00:00+00:00"
        ],
        [
         "20",
         "67",
         "0.0",
         "2025-03-03 03:00:00+00:00"
        ],
        [
         "21",
         "206",
         "0.0",
         "2025-03-03 03:00:00+00:00"
        ],
        [
         "22",
         "222",
         "0.0",
         "2025-03-03 03:00:00+00:00"
        ],
        [
         "23",
         "250",
         "1.0",
         "2025-03-03 03:00:00+00:00"
        ],
        [
         "24",
         "108",
         "0.0",
         "2025-03-03 03:00:00+00:00"
        ],
        [
         "25",
         "183",
         "0.0",
         "2025-03-03 03:00:00+00:00"
        ],
        [
         "26",
         "62",
         "1.0",
         "2025-03-03 03:00:00+00:00"
        ],
        [
         "27",
         "162",
         "210.0",
         "2025-03-03 03:00:00+00:00"
        ],
        [
         "28",
         "246",
         "22.0",
         "2025-03-03 03:00:00+00:00"
        ],
        [
         "29",
         "122",
         "0.0",
         "2025-03-03 03:00:00+00:00"
        ],
        [
         "30",
         "148",
         "78.0",
         "2025-03-03 03:00:00+00:00"
        ],
        [
         "31",
         "10",
         "1.0",
         "2025-03-03 03:00:00+00:00"
        ],
        [
         "32",
         "143",
         "28.0",
         "2025-03-03 03:00:00+00:00"
        ],
        [
         "33",
         "74",
         "10.0",
         "2025-03-03 03:00:00+00:00"
        ],
        [
         "34",
         "39",
         "1.0",
         "2025-03-03 03:00:00+00:00"
        ],
        [
         "35",
         "46",
         "0.0",
         "2025-03-03 03:00:00+00:00"
        ],
        [
         "36",
         "190",
         "0.0",
         "2025-03-03 03:00:00+00:00"
        ],
        [
         "37",
         "139",
         "0.0",
         "2025-03-03 03:00:00+00:00"
        ],
        [
         "38",
         "234",
         "179.0",
         "2025-03-03 03:00:00+00:00"
        ],
        [
         "39",
         "253",
         "0.0",
         "2025-03-03 03:00:00+00:00"
        ],
        [
         "40",
         "218",
         "0.0",
         "2025-03-03 03:00:00+00:00"
        ],
        [
         "41",
         "15",
         "0.0",
         "2025-03-03 03:00:00+00:00"
        ],
        [
         "42",
         "115",
         "0.0",
         "2025-03-03 03:00:00+00:00"
        ],
        [
         "43",
         "258",
         "0.0",
         "2025-03-03 03:00:00+00:00"
        ],
        [
         "44",
         "155",
         "0.0",
         "2025-03-03 03:00:00+00:00"
        ],
        [
         "45",
         "6",
         "0.0",
         "2025-03-03 03:00:00+00:00"
        ],
        [
         "46",
         "27",
         "0.0",
         "2025-03-03 03:00:00+00:00"
        ],
        [
         "47",
         "201",
         "0.0",
         "2025-03-03 03:00:00+00:00"
        ],
        [
         "48",
         "134",
         "0.0",
         "2025-03-03 03:00:00+00:00"
        ],
        [
         "49",
         "241",
         "0.0",
         "2025-03-03 03:00:00+00:00"
        ]
       ],
       "shape": {
        "columns": 3,
        "rows": 753
       }
      },
      "text/html": [
       "<div>\n",
       "<style scoped>\n",
       "    .dataframe tbody tr th:only-of-type {\n",
       "        vertical-align: middle;\n",
       "    }\n",
       "\n",
       "    .dataframe tbody tr th {\n",
       "        vertical-align: top;\n",
       "    }\n",
       "\n",
       "    .dataframe thead th {\n",
       "        text-align: right;\n",
       "    }\n",
       "</style>\n",
       "<table border=\"1\" class=\"dataframe\">\n",
       "  <thead>\n",
       "    <tr style=\"text-align: right;\">\n",
       "      <th></th>\n",
       "      <th>pickup_location_id</th>\n",
       "      <th>predicted_demand</th>\n",
       "      <th>pickup_hour</th>\n",
       "    </tr>\n",
       "  </thead>\n",
       "  <tbody>\n",
       "    <tr>\n",
       "      <th>0</th>\n",
       "      <td>95</td>\n",
       "      <td>1.0</td>\n",
       "      <td>2025-03-03 03:00:00+00:00</td>\n",
       "    </tr>\n",
       "    <tr>\n",
       "      <th>1</th>\n",
       "      <td>179</td>\n",
       "      <td>1.0</td>\n",
       "      <td>2025-03-03 03:00:00+00:00</td>\n",
       "    </tr>\n",
       "    <tr>\n",
       "      <th>2</th>\n",
       "      <td>127</td>\n",
       "      <td>0.0</td>\n",
       "      <td>2025-03-03 03:00:00+00:00</td>\n",
       "    </tr>\n",
       "    <tr>\n",
       "      <th>3</th>\n",
       "      <td>90</td>\n",
       "      <td>71.0</td>\n",
       "      <td>2025-03-03 03:00:00+00:00</td>\n",
       "    </tr>\n",
       "    <tr>\n",
       "      <th>4</th>\n",
       "      <td>79</td>\n",
       "      <td>98.0</td>\n",
       "      <td>2025-03-03 03:00:00+00:00</td>\n",
       "    </tr>\n",
       "    <tr>\n",
       "      <th>...</th>\n",
       "      <td>...</td>\n",
       "      <td>...</td>\n",
       "      <td>...</td>\n",
       "    </tr>\n",
       "    <tr>\n",
       "      <th>748</th>\n",
       "      <td>93</td>\n",
       "      <td>1.0</td>\n",
       "      <td>2025-03-03 07:00:00+00:00</td>\n",
       "    </tr>\n",
       "    <tr>\n",
       "      <th>749</th>\n",
       "      <td>194</td>\n",
       "      <td>0.0</td>\n",
       "      <td>2025-03-03 07:00:00+00:00</td>\n",
       "    </tr>\n",
       "    <tr>\n",
       "      <th>750</th>\n",
       "      <td>36</td>\n",
       "      <td>0.0</td>\n",
       "      <td>2025-03-03 07:00:00+00:00</td>\n",
       "    </tr>\n",
       "    <tr>\n",
       "      <th>751</th>\n",
       "      <td>210</td>\n",
       "      <td>0.0</td>\n",
       "      <td>2025-03-03 07:00:00+00:00</td>\n",
       "    </tr>\n",
       "    <tr>\n",
       "      <th>752</th>\n",
       "      <td>244</td>\n",
       "      <td>4.0</td>\n",
       "      <td>2025-03-03 07:00:00+00:00</td>\n",
       "    </tr>\n",
       "  </tbody>\n",
       "</table>\n",
       "<p>753 rows × 3 columns</p>\n",
       "</div>"
      ],
      "text/plain": [
       "     pickup_location_id  predicted_demand               pickup_hour\n",
       "0                    95               1.0 2025-03-03 03:00:00+00:00\n",
       "1                   179               1.0 2025-03-03 03:00:00+00:00\n",
       "2                   127               0.0 2025-03-03 03:00:00+00:00\n",
       "3                    90              71.0 2025-03-03 03:00:00+00:00\n",
       "4                    79              98.0 2025-03-03 03:00:00+00:00\n",
       "..                  ...               ...                       ...\n",
       "748                  93               1.0 2025-03-03 07:00:00+00:00\n",
       "749                 194               0.0 2025-03-03 07:00:00+00:00\n",
       "750                  36               0.0 2025-03-03 07:00:00+00:00\n",
       "751                 210               0.0 2025-03-03 07:00:00+00:00\n",
       "752                 244               4.0 2025-03-03 07:00:00+00:00\n",
       "\n",
       "[753 rows x 3 columns]"
      ]
     },
     "execution_count": 89,
     "metadata": {},
     "output_type": "execute_result"
    }
   ],
   "source": [
    "results"
   ]
  },
  {
   "cell_type": "code",
   "execution_count": 90,
   "id": "3015ad82-b0b7-42e0-b6e3-6e69550da93a",
   "metadata": {},
   "outputs": [],
   "source": [
    "def fetch_next_hour_predictions():\n",
    "    # Get current UTC time and round up to next hour\n",
    "    now = datetime.now(timezone.utc)\n",
    "    next_hour = (now + timedelta(hours=1)).replace(minute=0, second=0, microsecond=0)\n",
    "\n",
    "    fs = get_feature_store()\n",
    "    fg = fs.get_feature_group(name=config.FEATURE_GROUP_MODEL_PREDICTION, version=1)\n",
    "\n",
    "    # Then filter for next hour in the DataFrame\n",
    "    df_hour = df[df[\"pickup_hour\"] == next_hour]\n",
    "\n",
    "    print(f\"Current UTC time: {now}\")\n",
    "    print(f\"Next hour: {next_hour}\")\n",
    "    print(f\"Found {len(df_hour)} records\")\n",
    "    return df_hour"
   ]
  },
  {
   "cell_type": "code",
   "execution_count": 91,
   "id": "1a42dc2b-f1b3-40a2-8610-1bed9c822355",
   "metadata": {},
   "outputs": [
    {
     "name": "stdout",
     "output_type": "stream",
     "text": [
      "2025-03-03 01:15:35,837 INFO: Closing external client and cleaning up certificates.\n",
      "Connection closed.\n",
      "2025-03-03 01:15:35,860 INFO: Initializing external client\n",
      "2025-03-03 01:15:35,862 INFO: Base URL: https://c.app.hopsworks.ai:443\n",
      "2025-03-03 01:15:36,524 INFO: Python Engine initialized.\n",
      "\n",
      "Logged in to project, explore it here https://c.app.hopsworks.ai:443/p/1215649\n",
      "Current UTC time: 2025-03-03 06:15:35.837610+00:00\n",
      "Next hour: 2025-03-03 07:00:00+00:00\n",
      "Found 251 records\n"
     ]
    }
   ],
   "source": [
    "predictions = fetch_next_hour_predictions()"
   ]
  },
  {
   "cell_type": "code",
   "execution_count": 92,
   "id": "6495da67-1068-41e0-9092-458c11626900",
   "metadata": {},
   "outputs": [
    {
     "name": "stdout",
     "output_type": "stream",
     "text": [
      "2025-03-03 01:15:37,522 INFO: Closing external client and cleaning up certificates.\n",
      "Connection closed.\n",
      "2025-03-03 01:15:37,529 INFO: Initializing external client\n",
      "2025-03-03 01:15:37,531 INFO: Base URL: https://c.app.hopsworks.ai:443\n",
      "2025-03-03 01:15:38,173 INFO: Python Engine initialized.\n",
      "\n",
      "Logged in to project, explore it here https://c.app.hopsworks.ai:443/p/1215649\n"
     ]
    }
   ],
   "source": [
    "fs = get_feature_store()\n",
    "fg = fs.get_feature_group(name=config.FEATURE_GROUP_MODEL_PREDICTION, version=1)\n",
    "\n"
   ]
  },
  {
   "cell_type": "code",
   "execution_count": 93,
   "id": "9761c899-38c7-4560-9226-d41ce20811df",
   "metadata": {},
   "outputs": [
    {
     "name": "stdout",
     "output_type": "stream",
     "text": [
      "Finished: Reading data from Hopsworks, using Hopsworks Feature Query Service (0.40s) \n"
     ]
    }
   ],
   "source": [
    "df = fg.read()"
   ]
  },
  {
   "cell_type": "code",
   "execution_count": 94,
   "id": "90052c02-a072-423f-95d5-086c1ca786eb",
   "metadata": {},
   "outputs": [
    {
     "data": {
      "text/plain": [
       "Timestamp('2025-03-03 07:00:00+0000', tz='Etc/UTC')"
      ]
     },
     "execution_count": 94,
     "metadata": {},
     "output_type": "execute_result"
    }
   ],
   "source": [
    "df[\"pickup_hour\"].max()"
   ]
  },
  {
   "cell_type": "code",
   "execution_count": 95,
   "id": "30f5c3e8-156e-44a5-ac8a-ccb1479a6936",
   "metadata": {},
   "outputs": [
    {
     "name": "stdout",
     "output_type": "stream",
     "text": [
      "2025-03-03 07:00:00+00:00\n"
     ]
    }
   ],
   "source": [
    "now = datetime.now(timezone.utc)\n",
    "next_hour = (now + timedelta(hours=1)).replace(minute=0, second=0, microsecond=0)\n",
    "print(next_hour)"
   ]
  },
  {
   "cell_type": "code",
   "execution_count": 96,
   "id": "02ebe046-ae58-489e-99e7-a4f27755a10f",
   "metadata": {},
   "outputs": [
    {
     "data": {
      "application/vnd.microsoft.datawrangler.viewer.v0+json": {
       "columns": [
        {
         "name": "index",
         "rawType": "int64",
         "type": "integer"
        },
        {
         "name": "pickup_location_id",
         "rawType": "int32",
         "type": "integer"
        },
        {
         "name": "predicted_demand",
         "rawType": "float64",
         "type": "float"
        },
        {
         "name": "pickup_hour",
         "rawType": "datetime64[us, Etc/UTC]",
         "type": "unknown"
        }
       ],
       "conversionMethod": "pd.DataFrame",
       "ref": "9486c61a-2d56-4305-a08b-29837edc1b39",
       "rows": [
        [
         "502",
         "245",
         "0.0",
         "2025-03-03 07:00:00+00:00"
        ],
        [
         "503",
         "87",
         "23.0",
         "2025-03-03 07:00:00+00:00"
        ],
        [
         "504",
         "146",
         "2.0",
         "2025-03-03 07:00:00+00:00"
        ],
        [
         "505",
         "175",
         "0.0",
         "2025-03-03 07:00:00+00:00"
        ],
        [
         "506",
         "59",
         "0.0",
         "2025-03-03 07:00:00+00:00"
        ],
        [
         "507",
         "147",
         "0.0",
         "2025-03-03 07:00:00+00:00"
        ],
        [
         "508",
         "246",
         "79.0",
         "2025-03-03 07:00:00+00:00"
        ],
        [
         "509",
         "174",
         "0.0",
         "2025-03-03 07:00:00+00:00"
        ],
        [
         "510",
         "88",
         "10.0",
         "2025-03-03 07:00:00+00:00"
        ],
        [
         "511",
         "9",
         "0.0",
         "2025-03-03 07:00:00+00:00"
        ],
        [
         "512",
         "247",
         "0.0",
         "2025-03-03 07:00:00+00:00"
        ],
        [
         "513",
         "89",
         "0.0",
         "2025-03-03 07:00:00+00:00"
        ],
        [
         "514",
         "148",
         "87.0",
         "2025-03-03 07:00:00+00:00"
        ],
        [
         "515",
         "149",
         "0.0",
         "2025-03-03 07:00:00+00:00"
        ],
        [
         "516",
         "248",
         "0.0",
         "2025-03-03 07:00:00+00:00"
        ],
        [
         "517",
         "219",
         "1.0",
         "2025-03-03 07:00:00+00:00"
        ],
        [
         "518",
         "214",
         "0.0",
         "2025-03-03 07:00:00+00:00"
        ],
        [
         "519",
         "8",
         "0.0",
         "2025-03-03 07:00:00+00:00"
        ],
        [
         "520",
         "115",
         "0.0",
         "2025-03-03 07:00:00+00:00"
        ],
        [
         "521",
         "55",
         "0.0",
         "2025-03-03 07:00:00+00:00"
        ],
        [
         "522",
         "171",
         "0.0",
         "2025-03-03 07:00:00+00:00"
        ],
        [
         "523",
         "56",
         "0.0",
         "2025-03-03 07:00:00+00:00"
        ],
        [
         "524",
         "249",
         "83.0",
         "2025-03-03 07:00:00+00:00"
        ],
        [
         "525",
         "116",
         "3.0",
         "2025-03-03 07:00:00+00:00"
        ],
        [
         "526",
         "119",
         "0.0",
         "2025-03-03 07:00:00+00:00"
        ],
        [
         "527",
         "173",
         "0.0",
         "2025-03-03 07:00:00+00:00"
        ],
        [
         "528",
         "57",
         "0.0",
         "2025-03-03 07:00:00+00:00"
        ],
        [
         "529",
         "215",
         "1.0",
         "2025-03-03 07:00:00+00:00"
        ],
        [
         "530",
         "218",
         "0.0",
         "2025-03-03 07:00:00+00:00"
        ],
        [
         "531",
         "216",
         "1.0",
         "2025-03-03 07:00:00+00:00"
        ],
        [
         "532",
         "217",
         "0.0",
         "2025-03-03 07:00:00+00:00"
        ],
        [
         "533",
         "117",
         "0.0",
         "2025-03-03 07:00:00+00:00"
        ],
        [
         "534",
         "172",
         "0.0",
         "2025-03-03 07:00:00+00:00"
        ],
        [
         "535",
         "118",
         "0.0",
         "2025-03-03 07:00:00+00:00"
        ],
        [
         "536",
         "58",
         "0.0",
         "2025-03-03 07:00:00+00:00"
        ],
        [
         "537",
         "211",
         "29.0",
         "2025-03-03 07:00:00+00:00"
        ],
        [
         "538",
         "81",
         "0.0",
         "2025-03-03 07:00:00+00:00"
        ],
        [
         "539",
         "24",
         "5.0",
         "2025-03-03 07:00:00+00:00"
        ],
        [
         "540",
         "53",
         "0.0",
         "2025-03-03 07:00:00+00:00"
        ],
        [
         "541",
         "7",
         "2.0",
         "2025-03-03 07:00:00+00:00"
        ],
        [
         "542",
         "170",
         "74.0",
         "2025-03-03 07:00:00+00:00"
        ],
        [
         "543",
         "100",
         "68.0",
         "2025-03-03 07:00:00+00:00"
        ],
        [
         "544",
         "241",
         "0.0",
         "2025-03-03 07:00:00+00:00"
        ],
        [
         "545",
         "113",
         "91.0",
         "2025-03-03 07:00:00+00:00"
        ],
        [
         "546",
         "26",
         "0.0",
         "2025-03-03 07:00:00+00:00"
        ],
        [
         "547",
         "12",
         "0.0",
         "2025-03-03 07:00:00+00:00"
        ],
        [
         "548",
         "40",
         "1.0",
         "2025-03-03 07:00:00+00:00"
        ],
        [
         "549",
         "141",
         "27.0",
         "2025-03-03 07:00:00+00:00"
        ],
        [
         "550",
         "213",
         "0.0",
         "2025-03-03 07:00:00+00:00"
        ],
        [
         "551",
         "143",
         "91.0",
         "2025-03-03 07:00:00+00:00"
        ]
       ],
       "shape": {
        "columns": 3,
        "rows": 251
       }
      },
      "text/html": [
       "<div>\n",
       "<style scoped>\n",
       "    .dataframe tbody tr th:only-of-type {\n",
       "        vertical-align: middle;\n",
       "    }\n",
       "\n",
       "    .dataframe tbody tr th {\n",
       "        vertical-align: top;\n",
       "    }\n",
       "\n",
       "    .dataframe thead th {\n",
       "        text-align: right;\n",
       "    }\n",
       "</style>\n",
       "<table border=\"1\" class=\"dataframe\">\n",
       "  <thead>\n",
       "    <tr style=\"text-align: right;\">\n",
       "      <th></th>\n",
       "      <th>pickup_location_id</th>\n",
       "      <th>predicted_demand</th>\n",
       "      <th>pickup_hour</th>\n",
       "    </tr>\n",
       "  </thead>\n",
       "  <tbody>\n",
       "    <tr>\n",
       "      <th>502</th>\n",
       "      <td>245</td>\n",
       "      <td>0.0</td>\n",
       "      <td>2025-03-03 07:00:00+00:00</td>\n",
       "    </tr>\n",
       "    <tr>\n",
       "      <th>503</th>\n",
       "      <td>87</td>\n",
       "      <td>23.0</td>\n",
       "      <td>2025-03-03 07:00:00+00:00</td>\n",
       "    </tr>\n",
       "    <tr>\n",
       "      <th>504</th>\n",
       "      <td>146</td>\n",
       "      <td>2.0</td>\n",
       "      <td>2025-03-03 07:00:00+00:00</td>\n",
       "    </tr>\n",
       "    <tr>\n",
       "      <th>505</th>\n",
       "      <td>175</td>\n",
       "      <td>0.0</td>\n",
       "      <td>2025-03-03 07:00:00+00:00</td>\n",
       "    </tr>\n",
       "    <tr>\n",
       "      <th>506</th>\n",
       "      <td>59</td>\n",
       "      <td>0.0</td>\n",
       "      <td>2025-03-03 07:00:00+00:00</td>\n",
       "    </tr>\n",
       "    <tr>\n",
       "      <th>...</th>\n",
       "      <td>...</td>\n",
       "      <td>...</td>\n",
       "      <td>...</td>\n",
       "    </tr>\n",
       "    <tr>\n",
       "      <th>748</th>\n",
       "      <td>93</td>\n",
       "      <td>1.0</td>\n",
       "      <td>2025-03-03 07:00:00+00:00</td>\n",
       "    </tr>\n",
       "    <tr>\n",
       "      <th>749</th>\n",
       "      <td>194</td>\n",
       "      <td>0.0</td>\n",
       "      <td>2025-03-03 07:00:00+00:00</td>\n",
       "    </tr>\n",
       "    <tr>\n",
       "      <th>750</th>\n",
       "      <td>36</td>\n",
       "      <td>0.0</td>\n",
       "      <td>2025-03-03 07:00:00+00:00</td>\n",
       "    </tr>\n",
       "    <tr>\n",
       "      <th>751</th>\n",
       "      <td>210</td>\n",
       "      <td>0.0</td>\n",
       "      <td>2025-03-03 07:00:00+00:00</td>\n",
       "    </tr>\n",
       "    <tr>\n",
       "      <th>752</th>\n",
       "      <td>244</td>\n",
       "      <td>4.0</td>\n",
       "      <td>2025-03-03 07:00:00+00:00</td>\n",
       "    </tr>\n",
       "  </tbody>\n",
       "</table>\n",
       "<p>251 rows × 3 columns</p>\n",
       "</div>"
      ],
      "text/plain": [
       "     pickup_location_id  predicted_demand               pickup_hour\n",
       "502                 245               0.0 2025-03-03 07:00:00+00:00\n",
       "503                  87              23.0 2025-03-03 07:00:00+00:00\n",
       "504                 146               2.0 2025-03-03 07:00:00+00:00\n",
       "505                 175               0.0 2025-03-03 07:00:00+00:00\n",
       "506                  59               0.0 2025-03-03 07:00:00+00:00\n",
       "..                  ...               ...                       ...\n",
       "748                  93               1.0 2025-03-03 07:00:00+00:00\n",
       "749                 194               0.0 2025-03-03 07:00:00+00:00\n",
       "750                  36               0.0 2025-03-03 07:00:00+00:00\n",
       "751                 210               0.0 2025-03-03 07:00:00+00:00\n",
       "752                 244               4.0 2025-03-03 07:00:00+00:00\n",
       "\n",
       "[251 rows x 3 columns]"
      ]
     },
     "execution_count": 96,
     "metadata": {},
     "output_type": "execute_result"
    }
   ],
   "source": [
    "df[df[\"pickup_hour\"] == next_hour]"
   ]
  }
 ],
 "metadata": {
  "kernelspec": {
   "display_name": "testVmForZiaProject",
   "language": "python",
   "name": "python3"
  },
  "language_info": {
   "codemirror_mode": {
    "name": "ipython",
    "version": 3
   },
   "file_extension": ".py",
   "mimetype": "text/x-python",
   "name": "python",
   "nbconvert_exporter": "python",
   "pygments_lexer": "ipython3",
   "version": "3.11.0"
  }
 },
 "nbformat": 4,
 "nbformat_minor": 5
}
