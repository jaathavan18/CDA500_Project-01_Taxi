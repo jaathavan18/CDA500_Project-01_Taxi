{
 "cells": [
  {
   "cell_type": "code",
   "execution_count": null,
   "metadata": {},
   "outputs": [],
   "source": [
    "import warnings\n",
    "import sys\n",
    "import os\n",
    "\n",
    "warnings.filterwarnings(\"ignore\")\n",
    "# Using current working directory\n",
    "sys.path.append(os.path.abspath(os.path.join(os.getcwd(), '..')))"
   ]
  },
  {
   "cell_type": "code",
   "execution_count": null,
   "metadata": {},
   "outputs": [
    {
     "name": "stdout",
     "output_type": "stream",
     "text": [
      "(55900, 674)\n",
      "(55900,)\n",
      "(31720, 674)\n",
      "(31720,)\n"
     ]
    },
    {
     "name": "stderr",
     "output_type": "stream",
     "text": [
      "INFO:src.experiment_utils:MLflow tracking URI and credentials set.\n"
     ]
    },
    {
     "name": "stdout",
     "output_type": "stream",
     "text": [
      "Test MAE: 33.5704\n"
     ]
    },
    {
     "name": "stderr",
     "output_type": "stream",
     "text": [
      "WARNING:urllib3.connectionpool:Retrying (Retry(total=6, connect=7, read=7, redirect=7, status=7)) after connection broken by 'SSLEOFError(8, 'EOF occurred in violation of protocol (_ssl.c:2427)')': /jaathavan18/new_york_taxi.mlflow/api/2.0/mlflow-artifacts/artifacts/50ef3be1d47f4a609efb843dc190bf7d/3d5967f8c5544b888d4b5557c161ba84/artifacts/model/model.statsmodels\n"
     ]
    },
    {
     "name": "stdout",
     "output_type": "stream",
     "text": [
      "🏃 View run mercurial-midge-35 at: https://dagshub.com/jaathavan18/new_york_taxi.mlflow/#/experiments/0/runs/3d5967f8c5544b888d4b5557c161ba84\n",
      "🧪 View experiment at: https://dagshub.com/jaathavan18/new_york_taxi.mlflow/#/experiments/0\n"
     ]
    }
   ],
   "source": [
    "%load_ext autoreload\n",
    "%autoreload 2\n",
    "import sys\n",
    "import os\n",
    "import pandas as pd\n",
    "import numpy as np\n",
    "from datetime import datetime\n",
    "from sklearn.metrics import mean_absolute_error\n",
    "from statsmodels.tsa.arima.model import ARIMA\n",
    "from src.config import TRANSFORMED_DATA_DIR\n",
    "from src.data_utils import split_time_series_data\n",
    "from src.experiment_utils import set_mlflow_tracking, log_model_to_mlflow\n",
    "from dotenv import load_dotenv\n",
    "import mlflow\n",
    "from mlflow.models.signature import infer_signature\n",
    "\n",
    "# Load data\n",
    "df = pd.read_parquet(TRANSFORMED_DATA_DIR / \"tabular_data.parquet\")\n",
    "\n",
    "# Split data\n",
    "X_train, y_train, X_test, y_test = split_time_series_data(\n",
    "    df,\n",
    "    cutoff_date=datetime(2023, 9, 1, 0, 0, 0),\n",
    "    target_column=\"target\"\n",
    ")\n",
    "\n",
    "print(X_train.shape)\n",
    "print(y_train.shape)\n",
    "print(X_test.shape)\n",
    "print(y_test.shape)\n",
    "\n",
    "# Ensure y_train has a proper datetime index\n",
    "if not isinstance(y_train.index, pd.DatetimeIndex):\n",
    "    y_train.index = pd.date_range(start=\"2022-01-01\", periods=len(y_train), freq=\"D\")\n",
    "\n",
    "# Train ARIMA model\n",
    "p, d, q = 2, 1, 2\n",
    "arima_model = ARIMA(y_train, order=(p, d, q))\n",
    "fitted_arima = arima_model.fit()\n",
    "\n",
    "# Forecast future values\n",
    "forecast_steps = len(y_test)\n",
    "forecast_result = fitted_arima.get_forecast(steps=forecast_steps)\n",
    "predictions = forecast_result.predicted_mean\n",
    "\n",
    "# Ensure y_test matches predictions length\n",
    "y_test = y_test[:len(predictions)]\n",
    "\n",
    "# Compute MAE\n",
    "test_mae = mean_absolute_error(y_test, predictions)\n",
    "print(f\"Test MAE: {test_mae:.4f}\")\n",
    "\n",
    "# Set up MLflow\n",
    "load_dotenv()\n",
    "mlflow = set_mlflow_tracking()\n",
    "\n",
    "# Custom logging for ARIMA model\n",
    "def log_arima_to_mlflow(model, y_test, experiment_name, metric_name, score):\n",
    "    with mlflow.start_run():\n",
    "        # Log parameters\n",
    "        mlflow.log_param(\"p\", p)\n",
    "        mlflow.log_param(\"d\", d)\n",
    "        mlflow.log_param(\"q\", q)\n",
    "        \n",
    "        # Log metric\n",
    "        mlflow.log_metric(metric_name, score)\n",
    "        \n",
    "        # Create a dummy input for signature (e.g., array of steps)\n",
    "        dummy_input = np.arange(forecast_steps).reshape(-1, 1)  # Shape: (forecast_steps, 1)\n",
    "        predictions = model.forecast(steps=forecast_steps)\n",
    "        \n",
    "        # Infer signature with dummy input\n",
    "        signature = infer_signature(dummy_input, predictions)\n",
    "        \n",
    "        # Log the model\n",
    "        mlflow.statsmodels.log_model(model, \"model\", signature=signature)\n",
    "\n",
    "# Log the model\n",
    "log_arima_to_mlflow(fitted_arima, y_test, \"ARIMA\", \"mean_absolute_error\", test_mae)"
   ]
  }
 ],
 "metadata": {
  "kernelspec": {
   "display_name": ".venv",
   "language": "python",
   "name": "python3"
  },
  "language_info": {
   "codemirror_mode": {
    "name": "ipython",
    "version": 3
   },
   "file_extension": ".py",
   "mimetype": "text/x-python",
   "name": "python",
   "nbconvert_exporter": "python",
   "pygments_lexer": "ipython3",
   "version": "3.11.9"
  }
 },
 "nbformat": 4,
 "nbformat_minor": 2
}
