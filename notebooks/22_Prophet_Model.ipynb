{
 "cells": [
  {
   "cell_type": "code",
   "execution_count": 3,
   "metadata": {},
   "outputs": [],
   "source": [
    "import warnings\n",
    "import sys\n",
    "import os\n",
    "\n",
    "warnings.filterwarnings(\"ignore\")\n",
    "# Using current working directory\n",
    "sys.path.append(os.path.abspath(os.path.join(os.getcwd(), '..')))"
   ]
  },
  {
   "cell_type": "code",
   "execution_count": null,
   "metadata": {},
   "outputs": [
    {
     "name": "stdout",
     "output_type": "stream",
     "text": [
      "Collecting prophet\n",
      "  Downloading prophet-1.1.6-py3-none-win_amd64.whl.metadata (3.6 kB)\n",
      "Collecting cmdstanpy>=1.0.4 (from prophet)\n",
      "  Downloading cmdstanpy-1.2.5-py3-none-any.whl.metadata (4.0 kB)\n",
      "Requirement already satisfied: numpy>=1.15.4 in c:\\users\\jaath\\github\\cda500_project#01_taxi\\.venv\\lib\\site-packages (from prophet) (1.26.4)\n",
      "Requirement already satisfied: matplotlib>=2.0.0 in c:\\users\\jaath\\github\\cda500_project#01_taxi\\.venv\\lib\\site-packages (from prophet) (3.10.0)\n",
      "Requirement already satisfied: pandas>=1.0.4 in c:\\users\\jaath\\github\\cda500_project#01_taxi\\.venv\\lib\\site-packages (from prophet) (2.1.4)\n",
      "Collecting holidays<1,>=0.25 (from prophet)\n",
      "  Downloading holidays-0.71-py3-none-any.whl.metadata (34 kB)\n",
      "Requirement already satisfied: tqdm>=4.36.1 in c:\\users\\jaath\\github\\cda500_project#01_taxi\\.venv\\lib\\site-packages (from prophet) (4.67.1)\n",
      "Collecting importlib-resources (from prophet)\n",
      "  Downloading importlib_resources-6.5.2-py3-none-any.whl.metadata (3.9 kB)\n",
      "Collecting stanio<2.0.0,>=0.4.0 (from cmdstanpy>=1.0.4->prophet)\n",
      "  Downloading stanio-0.5.1-py3-none-any.whl.metadata (1.6 kB)\n",
      "Requirement already satisfied: python-dateutil in c:\\users\\jaath\\github\\cda500_project#01_taxi\\.venv\\lib\\site-packages (from holidays<1,>=0.25->prophet) (2.9.0.post0)\n",
      "Requirement already satisfied: contourpy>=1.0.1 in c:\\users\\jaath\\github\\cda500_project#01_taxi\\.venv\\lib\\site-packages (from matplotlib>=2.0.0->prophet) (1.3.1)\n",
      "Requirement already satisfied: cycler>=0.10 in c:\\users\\jaath\\github\\cda500_project#01_taxi\\.venv\\lib\\site-packages (from matplotlib>=2.0.0->prophet) (0.12.1)\n",
      "Requirement already satisfied: fonttools>=4.22.0 in c:\\users\\jaath\\github\\cda500_project#01_taxi\\.venv\\lib\\site-packages (from matplotlib>=2.0.0->prophet) (4.55.8)\n",
      "Requirement already satisfied: kiwisolver>=1.3.1 in c:\\users\\jaath\\github\\cda500_project#01_taxi\\.venv\\lib\\site-packages (from matplotlib>=2.0.0->prophet) (1.4.8)\n",
      "Requirement already satisfied: packaging>=20.0 in c:\\users\\jaath\\github\\cda500_project#01_taxi\\.venv\\lib\\site-packages (from matplotlib>=2.0.0->prophet) (24.2)\n",
      "Requirement already satisfied: pillow>=8 in c:\\users\\jaath\\github\\cda500_project#01_taxi\\.venv\\lib\\site-packages (from matplotlib>=2.0.0->prophet) (11.1.0)\n",
      "Requirement already satisfied: pyparsing>=2.3.1 in c:\\users\\jaath\\github\\cda500_project#01_taxi\\.venv\\lib\\site-packages (from matplotlib>=2.0.0->prophet) (3.2.1)\n",
      "Requirement already satisfied: pytz>=2020.1 in c:\\users\\jaath\\github\\cda500_project#01_taxi\\.venv\\lib\\site-packages (from pandas>=1.0.4->prophet) (2024.2)\n",
      "Requirement already satisfied: tzdata>=2022.1 in c:\\users\\jaath\\github\\cda500_project#01_taxi\\.venv\\lib\\site-packages (from pandas>=1.0.4->prophet) (2025.1)\n",
      "Requirement already satisfied: colorama in c:\\users\\jaath\\github\\cda500_project#01_taxi\\.venv\\lib\\site-packages (from tqdm>=4.36.1->prophet) (0.4.6)\n",
      "Requirement already satisfied: six>=1.5 in c:\\users\\jaath\\github\\cda500_project#01_taxi\\.venv\\lib\\site-packages (from python-dateutil->holidays<1,>=0.25->prophet) (1.17.0)\n",
      "Downloading prophet-1.1.6-py3-none-win_amd64.whl (13.3 MB)\n",
      "   ---------------------------------------- 0.0/13.3 MB ? eta -:--:--\n",
      "   ------- -------------------------------- 2.6/13.3 MB 21.6 MB/s eta 0:00:01\n",
      "   --------------------------------- ------ 11.0/13.3 MB 34.4 MB/s eta 0:00:01\n",
      "   ---------------------------------------- 13.3/13.3 MB 32.2 MB/s eta 0:00:00\n",
      "Downloading cmdstanpy-1.2.5-py3-none-any.whl (94 kB)\n",
      "Downloading holidays-0.71-py3-none-any.whl (917 kB)\n",
      "   ---------------------------------------- 0.0/917.9 kB ? eta -:--:--\n",
      "   --------------------------------------- 917.9/917.9 kB 41.0 MB/s eta 0:00:00\n",
      "Downloading importlib_resources-6.5.2-py3-none-any.whl (37 kB)\n",
      "Downloading stanio-0.5.1-py3-none-any.whl (8.1 kB)\n",
      "Installing collected packages: stanio, importlib-resources, holidays, cmdstanpy, prophet\n",
      "Successfully installed cmdstanpy-1.2.5 holidays-0.71 importlib-resources-6.5.2 prophet-1.1.6 stanio-0.5.1\n"
     ]
    }
   ],
   "source": [
    "# ! pip install prophet"
   ]
  },
  {
   "cell_type": "code",
   "execution_count": null,
   "metadata": {},
   "outputs": [
    {
     "name": "stdout",
     "output_type": "stream",
     "text": [
      "The autoreload extension is already loaded. To reload it, use:\n",
      "  %reload_ext autoreload\n"
     ]
    },
    {
     "name": "stderr",
     "output_type": "stream",
     "text": [
      "DEBUG:cmdstanpy:cmd: where.exe tbb.dll\n",
      "cwd: None\n",
      "DEBUG:cmdstanpy:Adding TBB (c:\\Users\\Jaath\\github\\CDA500_Project#01_Taxi\\.venv\\Lib\\site-packages\\prophet\\stan_model\\cmdstan-2.33.1\\stan\\lib\\stan_math\\lib\\tbb) to PATH\n"
     ]
    },
    {
     "name": "stdout",
     "output_type": "stream",
     "text": [
      "(55900, 674)\n",
      "(55900,)\n",
      "(31720, 674)\n",
      "(31720,)\n"
     ]
    },
    {
     "name": "stderr",
     "output_type": "stream",
     "text": [
      "DEBUG:cmdstanpy:input tempfile: C:\\Users\\Jaath\\AppData\\Local\\Temp\\tmpvvc1bx6r\\vu_c3g3f.json\n",
      "DEBUG:cmdstanpy:input tempfile: C:\\Users\\Jaath\\AppData\\Local\\Temp\\tmpvvc1bx6r\\969j6nv2.json\n",
      "DEBUG:cmdstanpy:idx 0\n",
      "DEBUG:cmdstanpy:running CmdStan, num_threads: None\n",
      "DEBUG:cmdstanpy:CmdStan args: ['C:\\\\Users\\\\Jaath\\\\github\\\\CDA500_Project#01_Taxi\\\\.venv\\\\Lib\\\\site-packages\\\\prophet\\\\stan_model\\\\prophet_model.bin', 'random', 'seed=67363', 'data', 'file=C:\\\\Users\\\\Jaath\\\\AppData\\\\Local\\\\Temp\\\\tmpvvc1bx6r\\\\vu_c3g3f.json', 'init=C:\\\\Users\\\\Jaath\\\\AppData\\\\Local\\\\Temp\\\\tmpvvc1bx6r\\\\969j6nv2.json', 'output', 'file=C:\\\\Users\\\\Jaath\\\\AppData\\\\Local\\\\Temp\\\\tmpvvc1bx6r\\\\prophet_modelfk6si7d0\\\\prophet_model-20250424194747.csv', 'method=optimize', 'algorithm=lbfgs', 'iter=10000']\n",
      "19:47:47 - cmdstanpy - INFO - Chain [1] start processing\n",
      "INFO:cmdstanpy:Chain [1] start processing\n",
      "19:48:03 - cmdstanpy - INFO - Chain [1] done processing\n",
      "INFO:cmdstanpy:Chain [1] done processing\n",
      "INFO:src.experiment_utils:MLflow tracking URI and credentials set.\n"
     ]
    },
    {
     "name": "stdout",
     "output_type": "stream",
     "text": [
      "Test MAE: 33.1503\n",
      "🏃 View run dapper-shoat-499 at: https://dagshub.com/jaathavan18/new_york_taxi.mlflow/#/experiments/0/runs/da0aad235cfb4551ab047b1d056bd876\n",
      "🧪 View experiment at: https://dagshub.com/jaathavan18/new_york_taxi.mlflow/#/experiments/0\n"
     ]
    }
   ],
   "source": [
    "%load_ext autoreload\n",
    "%autoreload 2\n",
    "import pandas as pd\n",
    "import numpy as np\n",
    "from datetime import datetime\n",
    "from sklearn.metrics import mean_absolute_error\n",
    "from prophet import Prophet\n",
    "from src.config import TRANSFORMED_DATA_DIR\n",
    "from src.data_utils import split_time_series_data\n",
    "from src.experiment_utils import set_mlflow_tracking\n",
    "from dotenv import load_dotenv\n",
    "import mlflow\n",
    "from mlflow.models.signature import infer_signature\n",
    "\n",
    "# Load data\n",
    "df = pd.read_parquet(TRANSFORMED_DATA_DIR / \"tabular_data.parquet\")\n",
    "\n",
    "# Split data\n",
    "X_train, y_train, X_test, y_test = split_time_series_data(\n",
    "    df,\n",
    "    cutoff_date=datetime(2023, 9, 1, 0, 0, 0),\n",
    "    target_column=\"target\"\n",
    ")\n",
    "\n",
    "print(X_train.shape)\n",
    "print(y_train.shape)\n",
    "print(X_test.shape)\n",
    "print(y_test.shape)\n",
    "\n",
    "# Ensure y_train and y_test have a datetime index\n",
    "if not isinstance(y_train.index, pd.DatetimeIndex):\n",
    "    y_train.index = pd.date_range(start=\"2022-01-01\", periods=len(y_train), freq=\"D\")\n",
    "if not isinstance(y_test.index, pd.DatetimeIndex):\n",
    "    y_test.index = pd.date_range(start=y_train.index[-1] + pd.Timedelta(days=1), \n",
    "                                 periods=len(y_test), freq=\"D\")\n",
    "\n",
    "# Prepare data for Prophet (requires 'ds' and 'y' columns)\n",
    "train_df = pd.DataFrame({\n",
    "    'ds': y_train.index,\n",
    "    'y': y_train.values\n",
    "})\n",
    "test_df = pd.DataFrame({\n",
    "    'ds': y_test.index,\n",
    "    'y': y_test.values\n",
    "})\n",
    "\n",
    "# Train the Prophet model\n",
    "prophet_model = Prophet(\n",
    "    yearly_seasonality=True,  # Enable yearly seasonality\n",
    "    weekly_seasonality=True,  # Enable weekly seasonality\n",
    "    daily_seasonality=True    # Enable daily seasonality\n",
    ")\n",
    "prophet_model.fit(train_df)\n",
    "\n",
    "# Make future dataframe for predictions\n",
    "future = prophet_model.make_future_dataframe(periods=len(y_test), freq=\"D\")\n",
    "forecast = prophet_model.predict(future)\n",
    "\n",
    "# Extract predictions for the test period\n",
    "predictions = forecast.tail(len(y_test))['yhat'].values\n",
    "\n",
    "# Compute Mean Absolute Error (MAE)\n",
    "test_mae = mean_absolute_error(y_test, predictions)\n",
    "print(f\"Test MAE: {test_mae:.4f}\")\n",
    "\n",
    "# Set up MLflow\n",
    "load_dotenv()\n",
    "mlflow = set_mlflow_tracking()\n",
    "\n",
    "# Custom function to log Prophet model to MLflow\n",
    "def log_prophet_to_mlflow(model, experiment_name, metric_name, score, test_df):\n",
    "    with mlflow.start_run():\n",
    "        # Log hyperparameters\n",
    "        mlflow.log_param(\"yearly_seasonality\", True)\n",
    "        mlflow.log_param(\"weekly_seasonality\", True)\n",
    "        mlflow.log_param(\"daily_seasonality\", True)\n",
    "        \n",
    "        # Log metric\n",
    "        mlflow.log_metric(metric_name, score)\n",
    "        \n",
    "        # Use test_df['ds'] as input for signature inference\n",
    "        input_df = test_df[['ds']]  # Prophet expects a DataFrame with 'ds'\n",
    "        predictions = model.predict(input_df)['yhat']\n",
    "        \n",
    "        # Infer signature\n",
    "        signature = infer_signature(input_df, predictions)\n",
    "        \n",
    "        # Log the model using Prophet flavor\n",
    "        mlflow.prophet.log_model(model, \"model\", signature=signature)\n",
    "\n",
    "# Log the Prophet model\n",
    "log_prophet_to_mlflow(prophet_model, \"Prophet\", \"mean_absolute_error\", test_mae, test_df)"
   ]
  }
 ],
 "metadata": {
  "kernelspec": {
   "display_name": ".venv",
   "language": "python",
   "name": "python3"
  },
  "language_info": {
   "codemirror_mode": {
    "name": "ipython",
    "version": 3
   },
   "file_extension": ".py",
   "mimetype": "text/x-python",
   "name": "python",
   "nbconvert_exporter": "python",
   "pygments_lexer": "ipython3",
   "version": "3.11.9"
  }
 },
 "nbformat": 4,
 "nbformat_minor": 2
}
