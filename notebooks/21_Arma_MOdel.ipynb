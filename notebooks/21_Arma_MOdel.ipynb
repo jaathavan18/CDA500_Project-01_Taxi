{
 "cells": [
  {
   "cell_type": "code",
   "execution_count": 1,
   "metadata": {},
   "outputs": [],
   "source": [
    "import warnings\n",
    "import sys\n",
    "import os\n",
    "\n",
    "warnings.filterwarnings(\"ignore\")\n",
    "# Using current working directory\n",
    "sys.path.append(os.path.abspath(os.path.join(os.getcwd(), '..')))"
   ]
  },
  {
   "cell_type": "code",
   "execution_count": null,
   "metadata": {},
   "outputs": [
    {
     "name": "stdout",
     "output_type": "stream",
     "text": [
      "(55900, 674)\n",
      "(55900,)\n",
      "(31720, 674)\n",
      "(31720,)\n"
     ]
    },
    {
     "name": "stderr",
     "output_type": "stream",
     "text": [
      "INFO:src.experiment_utils:MLflow tracking URI and credentials set.\n"
     ]
    },
    {
     "name": "stdout",
     "output_type": "stream",
     "text": [
      "Test MAE: 18.3437\n",
      "🏃 View run righteous-cod-113 at: https://dagshub.com/jaathavan18/new_york_taxi.mlflow/#/experiments/0/runs/13977fff6e324909b887705e31ed9096\n",
      "🧪 View experiment at: https://dagshub.com/jaathavan18/new_york_taxi.mlflow/#/experiments/0\n"
     ]
    }
   ],
   "source": [
    "%load_ext autoreload\n",
    "%autoreload 2\n",
    "import pandas as pd\n",
    "import numpy as np\n",
    "from datetime import datetime\n",
    "from sklearn.metrics import mean_absolute_error\n",
    "from statsmodels.tsa.arima.model import ARIMA\n",
    "from src.config import TRANSFORMED_DATA_DIR\n",
    "from src.data_utils import split_time_series_data\n",
    "from src.experiment_utils import set_mlflow_tracking  # Assuming this sets up MLflow\n",
    "from dotenv import load_dotenv\n",
    "import mlflow\n",
    "from mlflow.models.signature import infer_signature\n",
    "\n",
    "# Load data\n",
    "df = pd.read_parquet(TRANSFORMED_DATA_DIR / \"tabular_data.parquet\")\n",
    "\n",
    "# Split data\n",
    "X_train, y_train, X_test, y_test = split_time_series_data(\n",
    "    df,\n",
    "    cutoff_date=datetime(2023, 9, 1, 0, 0, 0),\n",
    "    target_column=\"target\"\n",
    ")\n",
    "\n",
    "print(X_train.shape)\n",
    "print(y_train.shape)\n",
    "print(X_test.shape)\n",
    "print(y_test.shape)\n",
    "\n",
    "# Ensure y_train and y_test have a datetime index\n",
    "if not isinstance(y_train.index, pd.DatetimeIndex):\n",
    "    y_train.index = pd.date_range(start=\"2022-01-01\", periods=len(y_train), freq=\"D\")\n",
    "if not isinstance(y_test.index, pd.DatetimeIndex):\n",
    "    y_test.index = pd.date_range(start=y_train.index[-1] + pd.Timedelta(days=1), \n",
    "                                 periods=len(y_test), freq=\"D\")\n",
    "\n",
    "# Train an ARMA model (ARIMA with d=0)\n",
    "p, q = 2, 2  # ARMA(p, q) - No differencing\n",
    "arma_model = ARIMA(y_train, order=(p, 0, q))  # d=0 for ARMA\n",
    "fitted_arma = arma_model.fit()\n",
    "\n",
    "# Make predictions for test set\n",
    "forecast_steps = len(y_test)\n",
    "predictions = fitted_arma.forecast(steps=forecast_steps)\n",
    "\n",
    "# Compute Mean Absolute Error (MAE)\n",
    "test_mae = mean_absolute_error(y_test, predictions)\n",
    "print(f\"Test MAE: {test_mae:.4f}\")\n",
    "\n",
    "# Set up MLflow\n",
    "load_dotenv()\n",
    "mlflow = set_mlflow_tracking()\n",
    "\n",
    "# Custom function to log ARMA model to MLflow\n",
    "def log_arma_to_mlflow(model, experiment_name, metric_name, score, forecast_steps):\n",
    "    with mlflow.start_run():\n",
    "        # Log parameters\n",
    "        mlflow.log_param(\"p\", p)\n",
    "        mlflow.log_param(\"d\", 0)\n",
    "        mlflow.log_param(\"q\", q)\n",
    "        \n",
    "        # Log metric\n",
    "        mlflow.log_metric(metric_name, score)\n",
    "        \n",
    "        # Create a dummy input for signature (array of steps)\n",
    "        dummy_input = np.arange(forecast_steps).reshape(-1, 1)  # Shape: (forecast_steps, 1)\n",
    "        predictions = model.forecast(steps=forecast_steps)\n",
    "        \n",
    "        # Infer signature with dummy input and predictions\n",
    "        signature = infer_signature(dummy_input, predictions)\n",
    "        \n",
    "        # Log the model using statsmodels flavor\n",
    "        mlflow.statsmodels.log_model(model, \"model\", signature=signature)\n",
    "\n",
    "# Log the ARMA model\n",
    "log_arma_to_mlflow(fitted_arma, \"ARMA\", \"mean_absolute_error\", test_mae, forecast_steps)"
   ]
  }
 ],
 "metadata": {
  "kernelspec": {
   "display_name": ".venv",
   "language": "python",
   "name": "python3"
  },
  "language_info": {
   "codemirror_mode": {
    "name": "ipython",
    "version": 3
   },
   "file_extension": ".py",
   "mimetype": "text/x-python",
   "name": "python",
   "nbconvert_exporter": "python",
   "pygments_lexer": "ipython3",
   "version": "3.11.9"
  }
 },
 "nbformat": 4,
 "nbformat_minor": 2
}
